{
 "cells": [
  {
   "cell_type": "code",
   "execution_count": 1,
   "metadata": {
    "ExecuteTime": {
     "end_time": "2022-08-17T00:15:56.480824Z",
     "start_time": "2022-08-17T00:15:46.929713Z"
    }
   },
   "outputs": [
    {
     "name": "stderr",
     "output_type": "stream",
     "text": [
      "\n",
      "Bad key \"text.kerning_factor\" on line 4 in\n",
      "C:\\Development\\Anaconda\\envs\\Hambot\\lib\\site-packages\\matplotlib\\mpl-data\\stylelib\\_classic_test_patch.mplstyle.\n",
      "You probably need to get an updated matplotlibrc file from\n",
      "https://github.com/matplotlib/matplotlib/blob/v3.1.3/matplotlibrc.template\n",
      "or from the matplotlib source distribution\n"
     ]
    }
   ],
   "source": [
    "import os\n",
    "import random\n",
    "import gc\n",
    "from tqdm import tqdm\n",
    "import warnings\n",
    "\n",
    "import math\n",
    "import numpy as np\n",
    "import pandas as pd\n",
    "import dask\n",
    "import dask.dataframe as dd\n",
    "import pickle\n",
    "\n",
    "from sklearn.utils.class_weight import compute_class_weight\n",
    "from sklearn.preprocessing import StandardScaler\n",
    "from sklearn.decomposition import PCA\n",
    "from gtda.homology import VietorisRipsPersistence\n",
    "from gtda.diagrams import PersistenceEntropy, BettiCurve, Amplitude\n",
    "\n",
    "import tensorflow as tf\n",
    "from tensorflow import keras as tfk\n",
    "gpu_devices = tf.config.experimental.list_physical_devices(\"GPU\")\n",
    "for device in gpu_devices:\n",
    "    tf.config.experimental.set_memory_growth(device, True)\n",
    "    \n",
    "import matplotlib.pyplot as plt\n",
    "import seaborn as sns\n",
    "\n",
    "np.random.seed(42)\n",
    "\n",
    "DATADIR = 'Data/' \n",
    "PROCESSDATA = False"
   ]
  },
  {
   "cell_type": "markdown",
   "metadata": {
    "heading_collapsed": true
   },
   "source": [
    "## Data"
   ]
  },
  {
   "cell_type": "markdown",
   "metadata": {
    "heading_collapsed": true,
    "hidden": true,
    "jp-MarkdownHeadingCollapsed": true
   },
   "source": [
    "### Save Processed Data"
   ]
  },
  {
   "cell_type": "code",
   "execution_count": 2,
   "metadata": {
    "ExecuteTime": {
     "end_time": "2022-08-17T00:15:56.496092Z",
     "start_time": "2022-08-17T00:15:56.481825Z"
    },
    "code_folding": [],
    "hidden": true
   },
   "outputs": [],
   "source": [
    "def ProcessData(raw_data_path, processed_data_path='X.parquet'):\n",
    "    \"\"\"\n",
    "    Processes raw training data via Dask to handle memory constraints. Save as parquet file.\n",
    "    \"\"\"\n",
    "    warnings.filterwarnings(action='ignore', category=pd.errors.ParserWarning, module='pandas')\n",
    "    warnings.filterwarnings(action='ignore', category=pd.errors.ParserWarning, module='dask')\n",
    "\n",
    "    print('Reading raw data...')\n",
    "    X = dd.read_csv(raw_data_path, \n",
    "                   dtype='float32', \n",
    "                   converters={\n",
    "                        'customer_ID':str, \n",
    "                        'S_2':str,\n",
    "                        'D_63':str,\n",
    "                        'D_64':str\n",
    "                  }).rename(columns={'customer_ID' : 'ID', 'S_2' : 'Time'})\n",
    "    X['Time'] = dd.to_datetime(X['Time'], format='%Y-%m-%d')\n",
    "    \n",
    "    # Statement time features\n",
    "    X['Month'] = X['Time'].apply(lambda t: t.month)\n",
    "    X['Day'] = X['Time'].apply(lambda t: t.day)\n",
    "\n",
    "    # Encode Categorical variables\n",
    "    categoricalVars = ['B_30', 'B_38', 'D_117', 'D_126', 'D_63', 'D_64', 'D_68']\n",
    "    catRefVal = [ 0.0, 2.0, -1.0, 1.0, 'CO', 'O', 6.0 ]\n",
    "    X = dd.get_dummies(X.categorize(columns=categoricalVars), columns=categoricalVars).drop(columns=[ f'{col}_{ref}' for col,ref in zip(categoricalVars, catRefVal) ])\n",
    "\n",
    "    # Execute Dask graph -> pandas MultiIndex & sort\n",
    "    X = X.compute().set_index(['ID', 'Time']).sort_index(level=[0,1])\n",
    "    \n",
    "    # Trim substantial missing columns & clean data\n",
    "    threshold = 0.7\n",
    "    missingCols = (X.isna().sum() / len(X)).sort_values(ascending=False)\n",
    "    missingCols = missingCols[missingCols>=threshold].index\n",
    "    X = X.drop(columns=missingCols).groupby(level=0).ffill().fillna(0)\n",
    "\n",
    "    ## Feature Engineering\n",
    "    meanSpendFeatures = X.loc[:,X.columns.str.startswith('S')].mean(axis=1)\n",
    "    meanPaymentFeatures = X.loc[:,X.columns.str.startswith('P')].mean(axis=1)\n",
    "    meanBalanceFeatures = X.loc[:,X.columns.str.startswith('B')].mean(axis=1)\n",
    "    X['SpendPaymentRatio'] = meanSpendFeatures / meanPaymentFeatures\n",
    "    X['SpendBalanceRatio'] = meanSpendFeatures / meanBalanceFeatures\n",
    "    X['PaymentBalanceRatio'] = meanPaymentFeatures / meanBalanceFeatures\n",
    "    X['MeanRiskFactor'] = X.loc[:,X.columns.str.startswith('R')].mean(axis=1)\n",
    "    X['MeanDelinquencyFactor'] = X.loc[:,X.columns.str.startswith('D')].mean(axis=1)\n",
    "    X['RiskBalanceFactor'] = X['MeanRiskFactor'] * meanBalanceFeatures\n",
    "    \n",
    "    # Aligned IDs\n",
    "    IDs = pd.read_csv(DATADIR+'raw/train_labels.csv', usecols=['customer_ID']).sort_values('customer_ID')\n",
    "    IDs.to_parquet(DATADIR+'IDs.parquet')\n",
    "    \n",
    "    print('Data loaded. Saving...')\n",
    "    \n",
    "    # Save clean features\n",
    "    X.to_parquet(processed_data_path)\n",
    "    print('Completed.')\n",
    "\n",
    "    return\n",
    "\n",
    "RAW_DATA_PATH = DATADIR + 'raw/train_data.csv'\n",
    "PROCESSED_DATA_PATH = DATADIR + 'X.parquet'\n",
    "if not os.path.exists(PROCESSED_DATA_PATH):\n",
    "    ProcessData(RAW_DATA_PATH, PROCESSED_DATA_PATH)"
   ]
  },
  {
   "cell_type": "markdown",
   "metadata": {
    "heading_collapsed": true,
    "hidden": true,
    "jp-MarkdownHeadingCollapsed": true
   },
   "source": [
    "### Load Processed Data"
   ]
  },
  {
   "cell_type": "code",
   "execution_count": 3,
   "metadata": {
    "ExecuteTime": {
     "end_time": "2022-08-17T00:16:17.787314Z",
     "start_time": "2022-08-17T00:15:56.497092Z"
    },
    "hidden": true
   },
   "outputs": [
    {
     "name": "stderr",
     "output_type": "stream",
     "text": [
      "C:\\Development\\Anaconda\\envs\\Hambot\\lib\\site-packages\\pyarrow\\compat.py:25: FutureWarning:\n",
      "\n",
      "pyarrow.compat has been deprecated and will be removed in a future release\n",
      "\n",
      "C:\\Development\\Anaconda\\envs\\Hambot\\lib\\site-packages\\dask\\dataframe\\io\\csv.py:518: ParserWarning:\n",
      "\n",
      "Both a converter and dtype were specified for column customer_ID - only the converter will be used\n",
      "\n",
      "C:\\Development\\Anaconda\\envs\\Hambot\\lib\\site-packages\\dask\\dataframe\\io\\csv.py:149: ParserWarning:\n",
      "\n",
      "Both a converter and dtype were specified for column customer_ID - only the converter will be used\n",
      "\n"
     ]
    }
   ],
   "source": [
    "# Features\n",
    "X = dd.read_parquet(PROCESSED_DATA_PATH, index=False).compute().set_index(['ID','Time']).astype('float32')\n",
    "\n",
    "# Outcomes\n",
    "IDs = list(pd.read_parquet(DATADIR+'IDs.parquet')['customer_ID'].values)\n",
    "Y = dd.read_csv(RAW_DATA_PATH, \n",
    "                dtype='float32', \n",
    "                converters={'customer_ID':str}).compute().rename(columns={'customer_ID' : 'ID', 'target' : 'True'}).set_index('ID').loc[IDs,:]"
   ]
  },
  {
   "cell_type": "markdown",
   "metadata": {
    "heading_collapsed": true,
    "hidden": true
   },
   "source": [
    "### Data Structuring"
   ]
  },
  {
   "cell_type": "code",
   "execution_count": 4,
   "metadata": {
    "ExecuteTime": {
     "end_time": "2022-08-17T00:16:19.821910Z",
     "start_time": "2022-08-17T00:16:17.787314Z"
    },
    "hidden": true
   },
   "outputs": [
    {
     "name": "stdout",
     "output_type": "stream",
     "text": [
      "X: (5531451, 195) -> Y: (458913, 1)\n"
     ]
    }
   ],
   "source": [
    "maxPeriods = X.reset_index().groupby('ID')['Time'].count().max()\n",
    "X_idx = X.index\n",
    "X_cols = X.columns\n",
    "numFeatures = len(X_cols)\n",
    "print(f'X: {X.shape} -> Y: {Y.shape}')"
   ]
  },
  {
   "cell_type": "markdown",
   "metadata": {
    "heading_collapsed": true,
    "hidden": true,
    "jp-MarkdownHeadingCollapsed": true
   },
   "source": [
    "#### Class Imbalance Weights"
   ]
  },
  {
   "cell_type": "code",
   "execution_count": 5,
   "metadata": {
    "ExecuteTime": {
     "end_time": "2022-08-17T00:16:20.074911Z",
     "start_time": "2022-08-17T00:16:19.822912Z"
    },
    "hidden": true
   },
   "outputs": [
    {
     "name": "stdout",
     "output_type": "stream",
     "text": [
      "[0.67470338 1.9309969 ]\n"
     ]
    },
    {
     "data": {
      "image/png": "[encoded data removed]",
      "text/plain": [
       "<Figure size 432x288 with 1 Axes>"
      ]
     },
     "metadata": {
      "needs_background": "light"
     },
     "output_type": "display_data"
    }
   ],
   "source": [
    "from sklearn.utils.class_weight import compute_class_weight\n",
    "\n",
    "classWeights = compute_class_weight(class_weight='balanced', classes=[0.,1.], y=Y['True'])\n",
    "\n",
    "print(classWeights)\n",
    "Y.value_counts().plot(kind='bar')\n",
    "plt.show()"
   ]
  },
  {
   "cell_type": "markdown",
   "metadata": {
    "heading_collapsed": true,
    "hidden": true
   },
   "source": [
    "#### Aggregate Individual-level Data"
   ]
  },
  {
   "cell_type": "code",
   "execution_count": 6,
   "metadata": {
    "ExecuteTime": {
     "end_time": "2022-08-17T00:17:24.291652Z",
     "start_time": "2022-08-17T00:16:20.075967Z"
    },
    "hidden": true
   },
   "outputs": [],
   "source": [
    "# Cross-sectional aggregate individual-level data\n",
    "Z = X.groupby(level=0).agg(['min','max','mean','std','last']).fillna(0.)\n",
    "Z.columns = Z.columns.map('_'.join)\n",
    "Z_cols = list(Z.columns)"
   ]
  },
  {
   "cell_type": "markdown",
   "metadata": {
    "heading_collapsed": true,
    "hidden": true
   },
   "source": [
    "#### Structure Panel Data"
   ]
  },
  {
   "cell_type": "code",
   "execution_count": 7,
   "metadata": {
    "ExecuteTime": {
     "end_time": "2022-08-17T00:19:19.952336Z",
     "start_time": "2022-08-17T00:17:24.292653Z"
    },
    "code_folding": [
     9
    ],
    "hidden": true
   },
   "outputs": [
    {
     "name": "stderr",
     "output_type": "stream",
     "text": [
      "100%|████████████████████████████████████████████████████████████████████████| 458913/458913 [01:25<00:00, 5383.24it/s]\n"
     ]
    },
    {
     "name": "stdout",
     "output_type": "stream",
     "text": [
      "X: (458913, 13, 195)\n"
     ]
    }
   ],
   "source": [
    "## Standardization\n",
    "from sklearn.preprocessing import StandardScaler\n",
    "\n",
    "X_scaler = StandardScaler()\n",
    "X = pd.DataFrame(X_scaler.fit_transform( X.reset_index().loc[:,X_cols].values ))\n",
    "X.index = X_idx\n",
    "X.columns = X_cols\n",
    "\n",
    "## Vectorization\n",
    "def VectorizeFeatures(X, maxPeriods=13, numFeatures=214):\n",
    "    \"\"\"\n",
    "    Vectorizes MultiIndex Features Panel Data -> 3D Array (ID, timestep, *)\n",
    "    \"\"\"\n",
    "    IDs = X.index.get_level_values(0).unique()\n",
    "    N = len(IDs)\n",
    "    \n",
    "    X_arr = np.zeros( (N, maxPeriods, numFeatures) )\n",
    "    for n,ID in enumerate(tqdm(IDs)):\n",
    "        customerDat = X.xs(ID, level=0).values\n",
    "        \n",
    "        # Add backfill-padding\n",
    "        numObs = customerDat.shape[0]\n",
    "        if numObs < maxPeriods:\n",
    "            pad = maxPeriods - numObs\n",
    "            pad = np.repeat( customerDat[[0],:], pad, axis=0 )\n",
    "            customerDat = np.concatenate([pad, customerDat], axis=0)\n",
    "            \n",
    "        X_arr[n,:,:] = customerDat\n",
    "        \n",
    "    return np.float32(X_arr)\n",
    "X = VectorizeFeatures(X, maxPeriods=maxPeriods, numFeatures=numFeatures)\n",
    "print(f'X: {X.shape}')"
   ]
  },
  {
   "cell_type": "markdown",
   "metadata": {
    "heading_collapsed": true,
    "hidden": true
   },
   "source": [
    "#### Structure Individual-level Data"
   ]
  },
  {
   "cell_type": "code",
   "execution_count": 8,
   "metadata": {
    "ExecuteTime": {
     "end_time": "2022-08-17T00:21:06.412385Z",
     "start_time": "2022-08-17T00:19:19.952336Z"
    },
    "hidden": true
   },
   "outputs": [
    {
     "name": "stderr",
     "output_type": "stream",
     "text": [
      "C:\\Development\\Anaconda\\envs\\Hambot\\lib\\site-packages\\numpy\\lib\\nanfunctions.py:1546: RuntimeWarning:\n",
      "\n",
      "overflow encountered in multiply\n",
      "\n"
     ]
    }
   ],
   "source": [
    "from gtda.homology import VietorisRipsPersistence\n",
    "from gtda.diagrams import PersistenceEntropy, Amplitude, NumberOfPoints\n",
    "\n",
    "\n",
    "## Topological feature extraction via persistent homology\n",
    "\n",
    "# Persistent homology on panel features\n",
    "homologyDimensions = [0, 1, 2]\n",
    "totalDim = len(homologyDimensions)\n",
    "VR = VietorisRipsPersistence(homology_dimensions=homologyDimensions, collapse_edges=True, n_jobs=-1)\n",
    "persistentHomology = VR.fit_transform( X )\n",
    "\n",
    "# Number of off-diagonal points of homology\n",
    "NOP = NumberOfPoints(n_jobs=-1)\n",
    "numPoints = NOP.fit_transform( persistentHomology )\n",
    "\n",
    "# Amplitude of homology\n",
    "AMP = Amplitude(metric='bottleneck', n_jobs=-1)\n",
    "amplitude = AMP.fit_transform( persistentHomology )\n",
    "\n",
    "# Entropy of homology\n",
    "PE = PersistenceEntropy(normalize=True, nan_fill_value=0, n_jobs=-1)\n",
    "entropy = PE.fit_transform( persistentHomology )\n",
    "\n",
    "## Full cross-sectional individual-level data\n",
    "\n",
    "Z = np.nan_to_num(np.concatenate([Z.values, numPoints, amplitude, entropy], axis=-1), nan=0., posinf=0., neginf=0.)\n",
    "\n",
    "# Standardization\n",
    "Z_scaler = StandardScaler()\n",
    "Z = pd.DataFrame(Z_scaler.fit_transform( Z ), index=IDs).fillna(0.)\n",
    "Z.columns = Z_cols + [f'HomologyPoints_{k}' for k in range(totalDim)] + [f'HomologyAmp_{k}' for k in range(totalDim)] + [f'HomologyEntrop_{k}' for k in range(totalDim)]\n",
    "numIndivFeatures = len(Z.columns)\n",
    "\n",
    "del persistentHomology, numPoints, amplitude, entropy\n",
    "_ = gc.collect()"
   ]
  },
  {
   "cell_type": "markdown",
   "metadata": {
    "hidden": true
   },
   "source": [
    "#### Train/Test Split"
   ]
  },
  {
   "cell_type": "code",
   "execution_count": 9,
   "metadata": {
    "ExecuteTime": {
     "end_time": "2022-08-17T00:21:11.197045Z",
     "start_time": "2022-08-17T00:21:06.412385Z"
    },
    "hidden": true
   },
   "outputs": [
    {
     "name": "stdout",
     "output_type": "stream",
     "text": [
      "[Train] X: (367131, 13, 195) Z: (367131, 984) -> Y: (367131, 1)\n",
      "[Test] X: (91782, 13, 195) Z: (91782, 984) -> Y: (91782, 1)\n"
     ]
    }
   ],
   "source": [
    "## Assumption: Credit Default is conditionally independent across customers (no spillage or macroeconomic shocks)\n",
    "TESTSIZE = 0.2\n",
    "N = len(IDs)\n",
    "\n",
    "# Indices of train/test data\n",
    "idx = [n for n in range(N)]\n",
    "test_idx = random.sample(idx, int(TESTSIZE*N))\n",
    "train_idx = list(set(idx) - set(test_idx))\n",
    "\n",
    "# Customer IDs of train/test data\n",
    "train_IDs = np.array(IDs)[train_idx]\n",
    "test_IDs = np.array(IDs)[test_idx]\n",
    "\n",
    "# Train/test data\n",
    "X_train = X[train_idx,:,:]\n",
    "X_test = X[test_idx,:,:]\n",
    "Z_train = Z.values[train_idx,:]\n",
    "Z_test = Z.values[test_idx,:]\n",
    "Y_train = Y.values[train_idx,:]\n",
    "Y_test = Y.values[test_idx,:]\n",
    "\n",
    "del X, Y, Z\n",
    "gc.collect()\n",
    "print(f'[Train] X: {X_train.shape} Z: {Z_train.shape} -> Y: {Y_train.shape}')\n",
    "print(f'[Test] X: {X_test.shape} Z: {Z_test.shape} -> Y: {Y_test.shape}')"
   ]
  },
  {
   "cell_type": "markdown",
   "metadata": {},
   "source": [
    "## Model"
   ]
  },
  {
   "cell_type": "code",
   "execution_count": 11,
   "metadata": {
    "ExecuteTime": {
     "end_time": "2022-08-16T09:31:22.144456Z",
     "start_time": "2022-08-16T09:31:21.637459Z"
    },
    "code_folding": [
     18
    ]
   },
   "outputs": [],
   "source": [
    "import tensorflow as tf\n",
    "from tensorflow import keras as tfk\n",
    "\n",
    "## Model Specifications\n",
    "\n",
    "modelSpecs = {\n",
    "    'PERSIST_ARCH' : [128, 128],\n",
    "    'RNN_ARCH' : [64, 32, 64],\n",
    "    'SIGNAL_ARCH' : [128, 128],\n",
    "    'DROPOUT' : 0.1,\n",
    "    'L1L2' : 0.001\n",
    "}\n",
    "\n",
    "BATCHSIZE = 10000\n",
    "EPOCHS = 10000\n",
    "\n",
    "## Data Generator\n",
    "\n",
    "class DataGenerator(tfk.utils.Sequence):\n",
    "    \"\"\"\n",
    "    TensorFlow Keras data generator for memory efficiency\n",
    "    \"\"\"\n",
    "\n",
    "    def __init__(self, X, Y, Z, BATCHSIZE):\n",
    "        data = [X, Y, Z]\n",
    "        for k in range(len(data)):\n",
    "            if isinstance(data[k], pd.DataFrame):\n",
    "                data[k] = data[k].values\n",
    "        self.X, self.Y, self.Z = data\n",
    "        self.BATCHSIZE = BATCHSIZE\n",
    "\n",
    "    def __len__(self):\n",
    "        return math.ceil(len(self.Y) / self.BATCHSIZE)\n",
    "\n",
    "    def __getitem__(self, idx):\n",
    "        X_batch = self.X[(idx * self.BATCHSIZE) : ((idx+1) * self.BATCHSIZE), :, :]\n",
    "        Y_batch = self.Y[(idx * self.BATCHSIZE) : ((idx+1) * self.BATCHSIZE), :]\n",
    "        Z_batch = self.Z[(idx * self.BATCHSIZE) : ((idx+1) * self.BATCHSIZE), :]\n",
    "        return ( [X_batch, Z_batch], [Y_batch] )\n",
    "trainDataGenerator = DataGenerator(X_train, Y_train, Z_train, BATCHSIZE=BATCHSIZE)\n",
    "testDataGenerator = DataGenerator(X_test, Y_test, Z_test, BATCHSIZE=BATCHSIZE)"
   ]
  },
  {
   "cell_type": "markdown",
   "metadata": {},
   "source": [
    "### Neural Network Architecture"
   ]
  },
  {
   "cell_type": "code",
   "execution_count": 14,
   "metadata": {
    "ExecuteTime": {
     "end_time": "2022-08-16T09:36:06.503527Z",
     "start_time": "2022-08-16T09:36:04.805569Z"
    },
    "code_folding": [
     0,
     90,
     181,
     192
    ],
    "scrolled": true
   },
   "outputs": [],
   "source": [
    "class TimeAttention(tfk.layers.Layer):\n",
    "    \"\"\"\n",
    "    Attention layer over time for sequential models.\n",
    "    \"\"\"\n",
    "    def __init__(self, return_sequences=False, name_='Attention'):\n",
    "        super(TimeAttention, self).__init__()\n",
    "        self.return_sequences = return_sequences\n",
    "        self.name_ = name_\n",
    "\n",
    "    def build(self, input_shape):\n",
    "        # Input shape: X = (N, T, K)\n",
    "        kernel_shape = (input_shape[-1], 1)  # Shape: (K, 1)\n",
    "        bias_shape = (input_shape[1], 1)     # Shape: (T, 1)\n",
    "        kernelInit = tfk.initializers.RandomNormal(1., 0.1)\n",
    "        biasInit = tfk.initializers.RandomNormal(0., 1e-4)\n",
    "        self.W = tf.Variable(\n",
    "                    kernelInit(shape=kernel_shape),\n",
    "                    trainable=True,\n",
    "                    name=self.name+'-W'\n",
    "        )\n",
    "        self.b = tf.Variable(\n",
    "                    biasInit(shape=bias_shape),\n",
    "                    trainable=True,\n",
    "                    name=self.name+'-b'\n",
    "        )\n",
    "\n",
    "    def call(self, x):\n",
    "        # Context of time series & time loadings/importance\n",
    "        context = tf.math.tanh( tf.tensordot(x, self.W, axes=1) + self.b )  # Shape: (N, T, 1)\n",
    "        beta = tf.math.softmax(context, axis=1)                             # Shape: (N, T, 1)\n",
    "        \n",
    "        # Processed time series with attention weights\n",
    "        output = x*beta\n",
    "        if self.return_sequences:\n",
    "            return output\n",
    "        return tf.math.reduce_sum(output, axis=1)\n",
    "class SnapshotModelCheckpoint(tfk.callbacks.Callback):\n",
    "    \"\"\"\n",
    "    Keras Callback for Snapshot Ensembling. To be used with cosine annealing.\n",
    "\n",
    "    Reference: \n",
    "     https://github.com/titu1994/Snapshot-Ensembles/blob/master/snapshot.py\n",
    "     Loshchilov and Hunter (2016), SGDR: Stochastic Gradient Descent with Warm Restarts\n",
    "    \"\"\"\n",
    "\n",
    "    def __init__(self, numEpochs, numSnapshots=10, dirpath='Ensemble/', model_prefix='Model'):\n",
    "        super(SnapshotModelCheckpoint, self).__init__()\n",
    "        self.annealCounter = numEpochs // numSnapshots\n",
    "        self.model_prefix = model_prefix\n",
    "\n",
    "    def on_epoch_end(self, epoch, logs={}):\n",
    "        if (epoch != 0) and ( ((epoch + 1) % self.annealCounter) == 0 ):\n",
    "            filepath = self.dirpath + self.model_prefix + f'-{ ((epoch+1) // self.annealCounter) }.h5'\n",
    "            self.model.save_weights(filepath, overwrite=True)\n",
    "            print(f'Saved snapshot at {dirpath}/{self.model_prefix}-{ ((epoch+1) // self.annealCounter) }.h5') \n",
    "class SnapshotCallbackBuilder:\n",
    "    \"\"\"\n",
    "    Helper function for creating list of Keras Callbacks for Snapshot Ensembling.\n",
    "    \n",
    "    Reference: https://github.com/titu1994/Snapshot-Ensembles/blob/master/snapshot.py\n",
    "    \"\"\"\n",
    "\n",
    "    def __init__(self, numEpochs, numSnapshots=10, init_lr=0.1):\n",
    "        self.numEpochs = numEpochs\n",
    "        self.numSnapshots = numSnapshots\n",
    "        self.init_lr = init_lr\n",
    "\n",
    "    def get_callbacks(self, dirpath='Ensemble/', model_prefix='Model'):\n",
    "        # Save ensembled models to this directory\n",
    "        if not os.path.exists(dirpath):\n",
    "            os.makedirs(dirpath)\n",
    "\n",
    "        callbacks = [\n",
    "            tfk.callbacks.ModelCheckpoint(dirpath + f'{model_prefix}-Best.h5', \n",
    "                                          monitor='val_loss',\n",
    "                                          mode='min',\n",
    "                                          save_best_only=True, \n",
    "                                          save_weights_only=True),\n",
    "            tfk.callbacks.LearningRateScheduler(schedule=self._cosine_anneal_schedule),\n",
    "            SnapshotModelCheckpoint(self.numEpochs, self.numSnapshots, dirpath=dirpath, model_prefix=model_prefix)\n",
    "        ]\n",
    "\n",
    "        return callbacks\n",
    "\n",
    "    def _cosine_anneal_schedule(self, t):\n",
    "        cos_inner = np.pi * (t % (self.numEpochs // self.numSnapshots))\n",
    "        cos_inner /= self.numEpochs // self.numSnapshots\n",
    "        cos_out = np.cos(cos_inner) + 1\n",
    "        return float(self.init_lr / 2 * cos_out)  \n",
    "    \n",
    "def CompileModel(modelSpecs, maxPeriods=13, numFeatures=214, numIndivFeatures=576):\n",
    "    \"\"\"\n",
    "    Compiles the Deep Learning Model.\n",
    "    \n",
    "    Args:\n",
    "        modelSpecs (dict)\n",
    "          'PERSIST_ARCH' = Architecture of latent persistent representation (through time)\n",
    "          'RNN_ARCH' = Architecture of recurrent memory cells\n",
    "          'SIGNAL_ARCH' = Architecture of signal extraction layers\n",
    "          'DROPOUT' = Dropout on fully connected layers\n",
    "          'L1L2' = Regularization on fully conntected layers\n",
    "    \"\"\"\n",
    "    \n",
    "    ## Model Inputs\n",
    "    x = tfk.Input(shape=(maxPeriods, numFeatures), name='X')\n",
    "    z = tfk.Input(shape=(numIndivFeatures,), name='Z')\n",
    "    \n",
    "    ## Temporal Dynamics via RNN\n",
    "    f = x\n",
    "    \n",
    "    # Attention weights through time\n",
    "    f = TimeAttention(return_sequences=True, name_='Attention0')(f)\n",
    "    \n",
    "    # Latent persistent representation through time\n",
    "    for k,nodes in enumerate(modelSpecs['PERSIST_ARCH']):\n",
    "        f = tfk.layers.Dense(nodes,\n",
    "                             kernel_regularizer=tfk.regularizers.L1L2(modelSpecs['L1L2'],modelSpecs['L1L2']),\n",
    "                             kernel_initializer=tfk.initializers.HeNormal(),\n",
    "                             bias_initializer=tfk.initializers.RandomNormal(0.,1e-4),\n",
    "                             name=f'PersistDense{k}'\n",
    "                            )(f)\n",
    "        f = tfk.layers.BatchNormalization()(f)\n",
    "        f = tfk.layers.PReLU()(f)\n",
    "        f = tfk.layers.Dropout( modelSpecs['DROPOUT'] )(f)\n",
    "    \n",
    "    # Recurrent LSTM layers\n",
    "    f, *states = tfk.layers.LSTM(modelSpecs['RNN_ARCH'][0],\n",
    "                            bias_initializer=tfk.initializers.RandomNormal(0., 1e-4),\n",
    "                            stateful=False,\n",
    "                            return_sequences=True,\n",
    "                            return_state=True,\n",
    "                            dropout=modelSpecs['DROPOUT'],\n",
    "                            name=f'LSTM0'\n",
    "                           )(f)\n",
    "    f = TimeAttention(return_sequences=True, name_='Attention1')(f)\n",
    "        \n",
    "    for k,nodes in enumerate(modelSpecs['RNN_ARCH'][1:-1]):\n",
    "        f = tfk.layers.LSTM(nodes,\n",
    "                            bias_initializer=tfk.initializers.RandomNormal(0., 1e-4),\n",
    "                            stateful=False,\n",
    "                            return_sequences=True,\n",
    "                            dropout=modelSpecs['DROPOUT'],\n",
    "                            name=f'LSTM{k+1}'\n",
    "                           )(f)\n",
    "        f = TimeAttention(return_sequences=True, name_=f'Attention{k+2}')(f)\n",
    "        \n",
    "    f = tfk.layers.LSTM(modelSpecs['RNN_ARCH'][-1],\n",
    "                            bias_initializer=tfk.initializers.RandomNormal(0., 1e-4),\n",
    "                            stateful=False,\n",
    "                            return_sequences=False,\n",
    "                            dropout=modelSpecs['DROPOUT'],\n",
    "                            name=f'LSTM{len(modelSpecs[\"RNN_ARCH\"])-1}'\n",
    "                           )(f, initial_state=states)\n",
    "    \n",
    "    ## Cross-sectional Signal Processing\n",
    "        \n",
    "    f = tfk.layers.Concatenate(axis=-1)([f, z])\n",
    "        \n",
    "    # Signal extraction layers\n",
    "    for k,nodes in enumerate(modelSpecs['SIGNAL_ARCH']):\n",
    "        f = tfk.layers.Dense(nodes,\n",
    "                             kernel_regularizer=tfk.regularizers.L1L2(modelSpecs['L1L2'],modelSpecs['L1L2']),\n",
    "                             kernel_initializer=tfk.initializers.HeNormal(),\n",
    "                             bias_initializer=tfk.initializers.RandomNormal(0.,1e-4),\n",
    "                             name=f'SignalDense{k}'\n",
    "                            )(f)\n",
    "        f = tfk.layers.BatchNormalization()(f)\n",
    "        f = tfk.layers.PReLU()(f)\n",
    "        if k != (len(modelSpecs['SIGNAL_ARCH']) - 1):\n",
    "            f = tfk.layers.Dropout( modelSpecs['DROPOUT'] )(f)\n",
    "        \n",
    "    # Estimated credit default probability\n",
    "    y_hat = tfk.layers.Dense(1,\n",
    "                         activation=tf.math.sigmoid,\n",
    "                         kernel_initializer=tfk.initializers.HeNormal(),\n",
    "                         bias_initializer=tfk.initializers.RandomNormal(0.,1e-4),\n",
    "                         name='Prediction'\n",
    "                        )(f)\n",
    "    \n",
    "    ## Model Compilation & Objective Functions\n",
    "    \n",
    "    def CompositeLoss(classWeights, gamma=0.55, delta=2):\n",
    "        \"\"\"\n",
    "        Composite loss for jointly optimizing maximum likelihood and smooth approximation to AUC via \n",
    "        gradient-based minimization.\n",
    "\n",
    "        Hyperparameters are calibrated via Monte Carlo experiments to approximate official metric \n",
    "        and maximize correlations:\n",
    "            `gamma` : 0.55 [Threshold parameter in approxiate AUC for pairwise separation]\n",
    "            `delta` : 2 [Uncalibrated parameter in approximate AUC - ensures convexity]\n",
    "        \"\"\"\n",
    "        def compute_loss(y_true, y_hat):\n",
    "            def BinaryCE(y_true, y_hat):\n",
    "                epsilon = 1e-6\n",
    "                loss = -( (classWeights[1] * y_true * tf.math.log(y_hat + epsilon)) + (classWeights[0] * (1.0 - y_true) * tf.math.log(1.0 - (y_hat-epsilon))) )\n",
    "                return tf.reduce_sum(loss, axis=-1)\n",
    "            def SmoothApproxAUCLoss(y_true, y_hat):\n",
    "                \"\"\"\n",
    "                Smooth and differentiable approximation to negative (unweighted) AUC for minimization.\n",
    "\n",
    "                Reference: Lian, Yan, et al. Optimizing Classifier Performance via an Approximation to the Wilcoxon-Mann-Whitney Statistic. 2003.\n",
    "                \"\"\"\n",
    "                DTYPE = y_true.dtype\n",
    "\n",
    "                # Indicators for true positive/negative labels\n",
    "                i_idx = tf.equal(y_true, 1)\n",
    "                j_idx = tf.equal(y_true, 0)\n",
    "                I = tf.math.reduce_sum(tf.cast(i_idx, DTYPE))\n",
    "                J = tf.math.reduce_sum(tf.cast(j_idx, DTYPE))\n",
    "\n",
    "                # Estimated probabilities for true positive/negative labels\n",
    "                p_plus = tf.expand_dims(tf.expand_dims(y_hat[i_idx], axis=-1), axis=-1)  # Shape: (I, 1, 1)\n",
    "                p_neg = tf.expand_dims(y_hat[j_idx], axis=-1)                            # Shape: (J, 1)\n",
    "\n",
    "                # Approx AUC per (i,j) pair of estimates\n",
    "                R_ij = tf.where( \n",
    "                        (p_plus - p_neg < gamma), \n",
    "                        tf.math.pow(-( p_plus - p_neg - gamma ), delta), \n",
    "                        0.\n",
    "                    )\n",
    "\n",
    "                # Sample Approx AUC metric\n",
    "                R = tf.math.reduce_sum( R_ij ) / (I * J)\n",
    "                return R\n",
    "            def SmoothApproxDefaultRateLoss(y_true, y_hat):\n",
    "                \"\"\"\n",
    "                Smooth and differentiable approximation to negative default rate loss for minimization.\n",
    "                Note: Differentiability is ensured by including the magnitude of probability estimates.\n",
    "                \"\"\"\n",
    "                # Sort by estimated probabilities\n",
    "                sorted_idx = tf.argsort(y_hat[:,0], axis=0, direction='DESCENDING')\n",
    "                y_true = tf.gather(y_true, sorted_idx, axis=0)\n",
    "                y_hat = tf.gather(y_hat, sorted_idx, axis=0)\n",
    "\n",
    "                # Simulate upsampling at ratio of 20:1\n",
    "                weights = (20. - (19. * y_true))[:,0]\n",
    "                upsampledN = tf.math.reduce_sum(weights)\n",
    "\n",
    "                # Cutoff at top 4% of upsampled data\n",
    "                cutoff = tf.math.reduce_max(tf.where(tf.math.cumsum(weights) <= (0.04 * upsampledN)))\n",
    "\n",
    "                # Approx Default Rate: Proportion of top 4% captured\n",
    "                defaultRate = -(tf.math.reduce_sum(y_true[:cutoff,:] * y_hat[:cutoff,:]) / tf.math.reduce_sum(y_true))\n",
    "                return defaultRate\n",
    "\n",
    "            # MLE of Y|X ~ Bernoulli(f_DNN(X))\n",
    "            #logLik = BinaryCE(y_true, y_hat)\n",
    "\n",
    "            # Smooth Approximation to negative AUC\n",
    "            AUC = SmoothApproxAUCLoss(y_true, y_hat)\n",
    "            G = 2*AUC + 1.\n",
    "\n",
    "            # Smooth Approximation to negative Default Rate\n",
    "            D = SmoothApproxDefaultRateLoss(y_true, y_hat)\n",
    "\n",
    "            # Composite Loss\n",
    "            loss = 0.5 * (G + D)\n",
    "            return loss\n",
    "        return compute_loss\n",
    "\n",
    "    model = tfk.Model(inputs=[x,z], outputs=[y_hat])\n",
    "    model.compile(\n",
    "                loss=CompositeLoss(classWeights),\n",
    "                optimizer=tfk.optimizers.Adam(),\n",
    "                metrics=[tfk.metrics.BinaryAccuracy(),]\n",
    "    )\n",
    "    \n",
    "    return model\n",
    "\n",
    "model = CompileModel(modelSpecs, maxPeriods=maxPeriods, numFeatures=numFeatures, numIndivFeatures=numIndivFeatures)\n",
    "#model.summary()"
   ]
  },
  {
   "cell_type": "markdown",
   "metadata": {},
   "source": [
    "### Training"
   ]
  },
  {
   "cell_type": "code",
   "execution_count": 16,
   "metadata": {
    "ExecuteTime": {
     "end_time": "2022-08-16T09:37:59.256774Z",
     "start_time": "2022-08-16T09:36:16.785723Z"
    },
    "code_folding": [],
    "scrolled": true
   },
   "outputs": [
    {
     "name": "stdout",
     "output_type": "stream",
     "text": [
      "Epoch 1/10000\n"
     ]
    },
    {
     "name": "stderr",
     "output_type": "stream",
     "text": [
      "C:\\Development\\Anaconda\\envs\\Hambot\\lib\\site-packages\\tensorflow\\python\\framework\\indexed_slices.py:449: UserWarning:\n",
      "\n",
      "Converting sparse IndexedSlices(IndexedSlices(indices=Tensor(\"gradient_tape/compute_loss/Reshape_5:0\", shape=(None,), dtype=int32), values=Tensor(\"gradient_tape/compute_loss/Reshape_4:0\", shape=(None, 1), dtype=float32), dense_shape=Tensor(\"gradient_tape/compute_loss/Cast:0\", shape=(2,), dtype=int32))) to a dense Tensor of unknown shape. This may consume a large amount of memory.\n",
      "\n"
     ]
    },
    {
     "name": "stdout",
     "output_type": "stream",
     "text": [
      "37/37 [==============================] - 13s 156ms/step - loss: 6.9171 - binary_accuracy: 0.7971 - val_loss: 3.5816 - val_binary_accuracy: 0.8263\n",
      "Epoch 2/10000\n",
      "37/37 [==============================] - 5s 131ms/step - loss: 3.1733 - binary_accuracy: 0.8105 - val_loss: 2.8871 - val_binary_accuracy: 0.8797\n",
      "Epoch 3/10000\n",
      "37/37 [==============================] - 5s 129ms/step - loss: 2.7918 - binary_accuracy: 0.8236 - val_loss: 2.7224 - val_binary_accuracy: 0.8306\n",
      "Epoch 4/10000\n",
      "37/37 [==============================] - 5s 130ms/step - loss: 2.8980 - binary_accuracy: 0.8187 - val_loss: 2.8595 - val_binary_accuracy: 0.8276\n",
      "Epoch 5/10000\n",
      "37/37 [==============================] - 5s 127ms/step - loss: 2.7494 - binary_accuracy: 0.8354 - val_loss: 2.8268 - val_binary_accuracy: 0.8893\n",
      "Epoch 6/10000\n",
      "37/37 [==============================] - 5s 130ms/step - loss: 2.7718 - binary_accuracy: 0.8335 - val_loss: 2.7752 - val_binary_accuracy: 0.7812\n",
      "Epoch 7/10000\n",
      "37/37 [==============================] - 5s 130ms/step - loss: 2.7496 - binary_accuracy: 0.8355 - val_loss: 2.6220 - val_binary_accuracy: 0.8042\n",
      "Epoch 8/10000\n",
      "37/37 [==============================] - 5s 130ms/step - loss: 2.7566 - binary_accuracy: 0.8399 - val_loss: 2.7648 - val_binary_accuracy: 0.8651\n",
      "Epoch 9/10000\n",
      "37/37 [==============================] - 5s 130ms/step - loss: 2.7214 - binary_accuracy: 0.8390 - val_loss: 2.9148 - val_binary_accuracy: 0.8714\n",
      "Epoch 10/10000\n",
      "37/37 [==============================] - 5s 129ms/step - loss: 2.7921 - binary_accuracy: 0.8349 - val_loss: 2.9022 - val_binary_accuracy: 0.8501\n",
      "Epoch 11/10000\n",
      "37/37 [==============================] - 5s 130ms/step - loss: 2.7287 - binary_accuracy: 0.8432 - val_loss: 2.7294 - val_binary_accuracy: 0.8674\n",
      "Epoch 12/10000\n",
      "37/37 [==============================] - 5s 130ms/step - loss: 2.7388 - binary_accuracy: 0.8408 - val_loss: 2.5924 - val_binary_accuracy: 0.8165\n",
      "Epoch 13/10000\n",
      "37/37 [==============================] - 5s 130ms/step - loss: 2.7235 - binary_accuracy: 0.8419 - val_loss: 2.9024 - val_binary_accuracy: 0.7892\n",
      "Epoch 14/10000\n",
      "37/37 [==============================] - 5s 130ms/step - loss: 2.7777 - binary_accuracy: 0.8374 - val_loss: 2.8315 - val_binary_accuracy: 0.8766\n",
      "Epoch 15/10000\n",
      "37/37 [==============================] - 5s 129ms/step - loss: 2.7441 - binary_accuracy: 0.8394 - val_loss: 2.7931 - val_binary_accuracy: 0.8167\n",
      "Epoch 16/10000\n",
      "37/37 [==============================] - 5s 130ms/step - loss: 2.7602 - binary_accuracy: 0.8438 - val_loss: 2.7910 - val_binary_accuracy: 0.8896\n",
      "Epoch 17/10000\n",
      "37/37 [==============================] - 5s 131ms/step - loss: 2.7208 - binary_accuracy: 0.8388 - val_loss: 2.7854 - val_binary_accuracy: 0.8340\n",
      "Epoch 18/10000\n",
      "37/37 [==============================] - 5s 131ms/step - loss: 2.7151 - binary_accuracy: 0.8446 - val_loss: 2.7442 - val_binary_accuracy: 0.8506\n",
      "Epoch 19/10000\n",
      "37/37 [==============================] - 5s 130ms/step - loss: 2.7477 - binary_accuracy: 0.8344 - val_loss: 2.6124 - val_binary_accuracy: 0.7516\n",
      "Epoch 20/10000\n",
      "21/37 [================>.............] - ETA: 1s - loss: 2.7535 - binary_accuracy: 0.8362"
     ]
    },
    {
     "ename": "KeyboardInterrupt",
     "evalue": "",
     "output_type": "error",
     "traceback": [
      "\u001b[1;31m---------------------------------------------------------------------------\u001b[0m",
      "\u001b[1;31mKeyboardInterrupt\u001b[0m                         Traceback (most recent call last)",
      "\u001b[1;32m<ipython-input-16-fc54cad7bd35>\u001b[0m in \u001b[0;36m<module>\u001b[1;34m\u001b[0m\n\u001b[0;32m     28\u001b[0m                         \u001b[0mbatch_size\u001b[0m\u001b[1;33m=\u001b[0m\u001b[0mBATCHSIZE\u001b[0m\u001b[1;33m,\u001b[0m\u001b[1;33m\u001b[0m\u001b[1;33m\u001b[0m\u001b[0m\n\u001b[0;32m     29\u001b[0m                         \u001b[0mshuffle\u001b[0m\u001b[1;33m=\u001b[0m\u001b[1;32mFalse\u001b[0m\u001b[1;33m,\u001b[0m\u001b[1;33m\u001b[0m\u001b[1;33m\u001b[0m\u001b[0m\n\u001b[1;32m---> 30\u001b[1;33m                         \u001b[0mcallbacks\u001b[0m\u001b[1;33m=\u001b[0m\u001b[0mcallbacks\u001b[0m\u001b[1;33m\u001b[0m\u001b[1;33m\u001b[0m\u001b[0m\n\u001b[0m\u001b[0;32m     31\u001b[0m                        )\n\u001b[0;32m     32\u001b[0m \u001b[0mlossHistory\u001b[0m \u001b[1;33m=\u001b[0m \u001b[0mpd\u001b[0m\u001b[1;33m.\u001b[0m\u001b[0mDataFrame\u001b[0m\u001b[1;33m(\u001b[0m\u001b[0mlossHistory\u001b[0m\u001b[1;33m.\u001b[0m\u001b[0mhistory\u001b[0m\u001b[1;33m)\u001b[0m\u001b[1;33m\u001b[0m\u001b[1;33m\u001b[0m\u001b[0m\n",
      "\u001b[1;32mC:\\Development\\Anaconda\\envs\\Hambot\\lib\\site-packages\\keras\\engine\\training.py\u001b[0m in \u001b[0;36mfit\u001b[1;34m(self, x, y, batch_size, epochs, verbose, callbacks, validation_split, validation_data, shuffle, class_weight, sample_weight, initial_epoch, steps_per_epoch, validation_steps, validation_batch_size, validation_freq, max_queue_size, workers, use_multiprocessing)\u001b[0m\n\u001b[0;32m   1187\u001b[0m               \u001b[0mlogs\u001b[0m \u001b[1;33m=\u001b[0m \u001b[0mtmp_logs\u001b[0m  \u001b[1;31m# No error, now safe to assign to logs.\u001b[0m\u001b[1;33m\u001b[0m\u001b[1;33m\u001b[0m\u001b[0m\n\u001b[0;32m   1188\u001b[0m               \u001b[0mend_step\u001b[0m \u001b[1;33m=\u001b[0m \u001b[0mstep\u001b[0m \u001b[1;33m+\u001b[0m \u001b[0mdata_handler\u001b[0m\u001b[1;33m.\u001b[0m\u001b[0mstep_increment\u001b[0m\u001b[1;33m\u001b[0m\u001b[1;33m\u001b[0m\u001b[0m\n\u001b[1;32m-> 1189\u001b[1;33m               \u001b[0mcallbacks\u001b[0m\u001b[1;33m.\u001b[0m\u001b[0mon_train_batch_end\u001b[0m\u001b[1;33m(\u001b[0m\u001b[0mend_step\u001b[0m\u001b[1;33m,\u001b[0m \u001b[0mlogs\u001b[0m\u001b[1;33m)\u001b[0m\u001b[1;33m\u001b[0m\u001b[1;33m\u001b[0m\u001b[0m\n\u001b[0m\u001b[0;32m   1190\u001b[0m               \u001b[1;32mif\u001b[0m \u001b[0mself\u001b[0m\u001b[1;33m.\u001b[0m\u001b[0mstop_training\u001b[0m\u001b[1;33m:\u001b[0m\u001b[1;33m\u001b[0m\u001b[1;33m\u001b[0m\u001b[0m\n\u001b[0;32m   1191\u001b[0m                 \u001b[1;32mbreak\u001b[0m\u001b[1;33m\u001b[0m\u001b[1;33m\u001b[0m\u001b[0m\n",
      "\u001b[1;32mC:\\Development\\Anaconda\\envs\\Hambot\\lib\\site-packages\\keras\\callbacks.py\u001b[0m in \u001b[0;36mon_train_batch_end\u001b[1;34m(self, batch, logs)\u001b[0m\n\u001b[0;32m    433\u001b[0m     \"\"\"\n\u001b[0;32m    434\u001b[0m     \u001b[1;32mif\u001b[0m \u001b[0mself\u001b[0m\u001b[1;33m.\u001b[0m\u001b[0m_should_call_train_batch_hooks\u001b[0m\u001b[1;33m:\u001b[0m\u001b[1;33m\u001b[0m\u001b[1;33m\u001b[0m\u001b[0m\n\u001b[1;32m--> 435\u001b[1;33m       \u001b[0mself\u001b[0m\u001b[1;33m.\u001b[0m\u001b[0m_call_batch_hook\u001b[0m\u001b[1;33m(\u001b[0m\u001b[0mModeKeys\u001b[0m\u001b[1;33m.\u001b[0m\u001b[0mTRAIN\u001b[0m\u001b[1;33m,\u001b[0m \u001b[1;34m'end'\u001b[0m\u001b[1;33m,\u001b[0m \u001b[0mbatch\u001b[0m\u001b[1;33m,\u001b[0m \u001b[0mlogs\u001b[0m\u001b[1;33m=\u001b[0m\u001b[0mlogs\u001b[0m\u001b[1;33m)\u001b[0m\u001b[1;33m\u001b[0m\u001b[1;33m\u001b[0m\u001b[0m\n\u001b[0m\u001b[0;32m    436\u001b[0m \u001b[1;33m\u001b[0m\u001b[0m\n\u001b[0;32m    437\u001b[0m   \u001b[1;32mdef\u001b[0m \u001b[0mon_test_batch_begin\u001b[0m\u001b[1;33m(\u001b[0m\u001b[0mself\u001b[0m\u001b[1;33m,\u001b[0m \u001b[0mbatch\u001b[0m\u001b[1;33m,\u001b[0m \u001b[0mlogs\u001b[0m\u001b[1;33m=\u001b[0m\u001b[1;32mNone\u001b[0m\u001b[1;33m)\u001b[0m\u001b[1;33m:\u001b[0m\u001b[1;33m\u001b[0m\u001b[1;33m\u001b[0m\u001b[0m\n",
      "\u001b[1;32mC:\\Development\\Anaconda\\envs\\Hambot\\lib\\site-packages\\keras\\callbacks.py\u001b[0m in \u001b[0;36m_call_batch_hook\u001b[1;34m(self, mode, hook, batch, logs)\u001b[0m\n\u001b[0;32m    293\u001b[0m       \u001b[0mself\u001b[0m\u001b[1;33m.\u001b[0m\u001b[0m_call_batch_begin_hook\u001b[0m\u001b[1;33m(\u001b[0m\u001b[0mmode\u001b[0m\u001b[1;33m,\u001b[0m \u001b[0mbatch\u001b[0m\u001b[1;33m,\u001b[0m \u001b[0mlogs\u001b[0m\u001b[1;33m)\u001b[0m\u001b[1;33m\u001b[0m\u001b[1;33m\u001b[0m\u001b[0m\n\u001b[0;32m    294\u001b[0m     \u001b[1;32melif\u001b[0m \u001b[0mhook\u001b[0m \u001b[1;33m==\u001b[0m \u001b[1;34m'end'\u001b[0m\u001b[1;33m:\u001b[0m\u001b[1;33m\u001b[0m\u001b[1;33m\u001b[0m\u001b[0m\n\u001b[1;32m--> 295\u001b[1;33m       \u001b[0mself\u001b[0m\u001b[1;33m.\u001b[0m\u001b[0m_call_batch_end_hook\u001b[0m\u001b[1;33m(\u001b[0m\u001b[0mmode\u001b[0m\u001b[1;33m,\u001b[0m \u001b[0mbatch\u001b[0m\u001b[1;33m,\u001b[0m \u001b[0mlogs\u001b[0m\u001b[1;33m)\u001b[0m\u001b[1;33m\u001b[0m\u001b[1;33m\u001b[0m\u001b[0m\n\u001b[0m\u001b[0;32m    296\u001b[0m     \u001b[1;32melse\u001b[0m\u001b[1;33m:\u001b[0m\u001b[1;33m\u001b[0m\u001b[1;33m\u001b[0m\u001b[0m\n\u001b[0;32m    297\u001b[0m       \u001b[1;32mraise\u001b[0m \u001b[0mValueError\u001b[0m\u001b[1;33m(\u001b[0m\u001b[1;34m'Unrecognized hook: {}'\u001b[0m\u001b[1;33m.\u001b[0m\u001b[0mformat\u001b[0m\u001b[1;33m(\u001b[0m\u001b[0mhook\u001b[0m\u001b[1;33m)\u001b[0m\u001b[1;33m)\u001b[0m\u001b[1;33m\u001b[0m\u001b[1;33m\u001b[0m\u001b[0m\n",
      "\u001b[1;32mC:\\Development\\Anaconda\\envs\\Hambot\\lib\\site-packages\\keras\\callbacks.py\u001b[0m in \u001b[0;36m_call_batch_end_hook\u001b[1;34m(self, mode, batch, logs)\u001b[0m\n\u001b[0;32m    313\u001b[0m       \u001b[0mself\u001b[0m\u001b[1;33m.\u001b[0m\u001b[0m_batch_times\u001b[0m\u001b[1;33m.\u001b[0m\u001b[0mappend\u001b[0m\u001b[1;33m(\u001b[0m\u001b[0mbatch_time\u001b[0m\u001b[1;33m)\u001b[0m\u001b[1;33m\u001b[0m\u001b[1;33m\u001b[0m\u001b[0m\n\u001b[0;32m    314\u001b[0m \u001b[1;33m\u001b[0m\u001b[0m\n\u001b[1;32m--> 315\u001b[1;33m     \u001b[0mself\u001b[0m\u001b[1;33m.\u001b[0m\u001b[0m_call_batch_hook_helper\u001b[0m\u001b[1;33m(\u001b[0m\u001b[0mhook_name\u001b[0m\u001b[1;33m,\u001b[0m \u001b[0mbatch\u001b[0m\u001b[1;33m,\u001b[0m \u001b[0mlogs\u001b[0m\u001b[1;33m)\u001b[0m\u001b[1;33m\u001b[0m\u001b[1;33m\u001b[0m\u001b[0m\n\u001b[0m\u001b[0;32m    316\u001b[0m \u001b[1;33m\u001b[0m\u001b[0m\n\u001b[0;32m    317\u001b[0m     \u001b[1;32mif\u001b[0m \u001b[0mlen\u001b[0m\u001b[1;33m(\u001b[0m\u001b[0mself\u001b[0m\u001b[1;33m.\u001b[0m\u001b[0m_batch_times\u001b[0m\u001b[1;33m)\u001b[0m \u001b[1;33m>=\u001b[0m \u001b[0mself\u001b[0m\u001b[1;33m.\u001b[0m\u001b[0m_num_batches_for_timing_check\u001b[0m\u001b[1;33m:\u001b[0m\u001b[1;33m\u001b[0m\u001b[1;33m\u001b[0m\u001b[0m\n",
      "\u001b[1;32mC:\\Development\\Anaconda\\envs\\Hambot\\lib\\site-packages\\keras\\callbacks.py\u001b[0m in \u001b[0;36m_call_batch_hook_helper\u001b[1;34m(self, hook_name, batch, logs)\u001b[0m\n\u001b[0;32m    351\u001b[0m     \u001b[1;32mfor\u001b[0m \u001b[0mcallback\u001b[0m \u001b[1;32min\u001b[0m \u001b[0mself\u001b[0m\u001b[1;33m.\u001b[0m\u001b[0mcallbacks\u001b[0m\u001b[1;33m:\u001b[0m\u001b[1;33m\u001b[0m\u001b[1;33m\u001b[0m\u001b[0m\n\u001b[0;32m    352\u001b[0m       \u001b[0mhook\u001b[0m \u001b[1;33m=\u001b[0m \u001b[0mgetattr\u001b[0m\u001b[1;33m(\u001b[0m\u001b[0mcallback\u001b[0m\u001b[1;33m,\u001b[0m \u001b[0mhook_name\u001b[0m\u001b[1;33m)\u001b[0m\u001b[1;33m\u001b[0m\u001b[1;33m\u001b[0m\u001b[0m\n\u001b[1;32m--> 353\u001b[1;33m       \u001b[0mhook\u001b[0m\u001b[1;33m(\u001b[0m\u001b[0mbatch\u001b[0m\u001b[1;33m,\u001b[0m \u001b[0mlogs\u001b[0m\u001b[1;33m)\u001b[0m\u001b[1;33m\u001b[0m\u001b[1;33m\u001b[0m\u001b[0m\n\u001b[0m\u001b[0;32m    354\u001b[0m \u001b[1;33m\u001b[0m\u001b[0m\n\u001b[0;32m    355\u001b[0m     \u001b[1;32mif\u001b[0m \u001b[0mself\u001b[0m\u001b[1;33m.\u001b[0m\u001b[0m_check_timing\u001b[0m\u001b[1;33m:\u001b[0m\u001b[1;33m\u001b[0m\u001b[1;33m\u001b[0m\u001b[0m\n",
      "\u001b[1;32mC:\\Development\\Anaconda\\envs\\Hambot\\lib\\site-packages\\keras\\callbacks.py\u001b[0m in \u001b[0;36mon_train_batch_end\u001b[1;34m(self, batch, logs)\u001b[0m\n\u001b[0;32m   1026\u001b[0m \u001b[1;33m\u001b[0m\u001b[0m\n\u001b[0;32m   1027\u001b[0m   \u001b[1;32mdef\u001b[0m \u001b[0mon_train_batch_end\u001b[0m\u001b[1;33m(\u001b[0m\u001b[0mself\u001b[0m\u001b[1;33m,\u001b[0m \u001b[0mbatch\u001b[0m\u001b[1;33m,\u001b[0m \u001b[0mlogs\u001b[0m\u001b[1;33m=\u001b[0m\u001b[1;32mNone\u001b[0m\u001b[1;33m)\u001b[0m\u001b[1;33m:\u001b[0m\u001b[1;33m\u001b[0m\u001b[1;33m\u001b[0m\u001b[0m\n\u001b[1;32m-> 1028\u001b[1;33m     \u001b[0mself\u001b[0m\u001b[1;33m.\u001b[0m\u001b[0m_batch_update_progbar\u001b[0m\u001b[1;33m(\u001b[0m\u001b[0mbatch\u001b[0m\u001b[1;33m,\u001b[0m \u001b[0mlogs\u001b[0m\u001b[1;33m)\u001b[0m\u001b[1;33m\u001b[0m\u001b[1;33m\u001b[0m\u001b[0m\n\u001b[0m\u001b[0;32m   1029\u001b[0m \u001b[1;33m\u001b[0m\u001b[0m\n\u001b[0;32m   1030\u001b[0m   \u001b[1;32mdef\u001b[0m \u001b[0mon_test_batch_end\u001b[0m\u001b[1;33m(\u001b[0m\u001b[0mself\u001b[0m\u001b[1;33m,\u001b[0m \u001b[0mbatch\u001b[0m\u001b[1;33m,\u001b[0m \u001b[0mlogs\u001b[0m\u001b[1;33m=\u001b[0m\u001b[1;32mNone\u001b[0m\u001b[1;33m)\u001b[0m\u001b[1;33m:\u001b[0m\u001b[1;33m\u001b[0m\u001b[1;33m\u001b[0m\u001b[0m\n",
      "\u001b[1;32mC:\\Development\\Anaconda\\envs\\Hambot\\lib\\site-packages\\keras\\callbacks.py\u001b[0m in \u001b[0;36m_batch_update_progbar\u001b[1;34m(self, batch, logs)\u001b[0m\n\u001b[0;32m   1098\u001b[0m     \u001b[1;32mif\u001b[0m \u001b[0mself\u001b[0m\u001b[1;33m.\u001b[0m\u001b[0mverbose\u001b[0m \u001b[1;33m==\u001b[0m \u001b[1;36m1\u001b[0m\u001b[1;33m:\u001b[0m\u001b[1;33m\u001b[0m\u001b[1;33m\u001b[0m\u001b[0m\n\u001b[0;32m   1099\u001b[0m       \u001b[1;31m# Only block async when verbose = 1.\u001b[0m\u001b[1;33m\u001b[0m\u001b[1;33m\u001b[0m\u001b[1;33m\u001b[0m\u001b[0m\n\u001b[1;32m-> 1100\u001b[1;33m       \u001b[0mlogs\u001b[0m \u001b[1;33m=\u001b[0m \u001b[0mtf_utils\u001b[0m\u001b[1;33m.\u001b[0m\u001b[0msync_to_numpy_or_python_type\u001b[0m\u001b[1;33m(\u001b[0m\u001b[0mlogs\u001b[0m\u001b[1;33m)\u001b[0m\u001b[1;33m\u001b[0m\u001b[1;33m\u001b[0m\u001b[0m\n\u001b[0m\u001b[0;32m   1101\u001b[0m       \u001b[0mself\u001b[0m\u001b[1;33m.\u001b[0m\u001b[0mprogbar\u001b[0m\u001b[1;33m.\u001b[0m\u001b[0mupdate\u001b[0m\u001b[1;33m(\u001b[0m\u001b[0mself\u001b[0m\u001b[1;33m.\u001b[0m\u001b[0mseen\u001b[0m\u001b[1;33m,\u001b[0m \u001b[0mlist\u001b[0m\u001b[1;33m(\u001b[0m\u001b[0mlogs\u001b[0m\u001b[1;33m.\u001b[0m\u001b[0mitems\u001b[0m\u001b[1;33m(\u001b[0m\u001b[1;33m)\u001b[0m\u001b[1;33m)\u001b[0m\u001b[1;33m,\u001b[0m \u001b[0mfinalize\u001b[0m\u001b[1;33m=\u001b[0m\u001b[1;32mFalse\u001b[0m\u001b[1;33m)\u001b[0m\u001b[1;33m\u001b[0m\u001b[1;33m\u001b[0m\u001b[0m\n\u001b[0;32m   1102\u001b[0m \u001b[1;33m\u001b[0m\u001b[0m\n",
      "\u001b[1;32mC:\\Development\\Anaconda\\envs\\Hambot\\lib\\site-packages\\keras\\utils\\tf_utils.py\u001b[0m in \u001b[0;36msync_to_numpy_or_python_type\u001b[1;34m(tensors)\u001b[0m\n\u001b[0;32m    514\u001b[0m     \u001b[1;32mreturn\u001b[0m \u001b[0mt\u001b[0m  \u001b[1;31m# Don't turn ragged or sparse tensors to NumPy.\u001b[0m\u001b[1;33m\u001b[0m\u001b[1;33m\u001b[0m\u001b[0m\n\u001b[0;32m    515\u001b[0m \u001b[1;33m\u001b[0m\u001b[0m\n\u001b[1;32m--> 516\u001b[1;33m   \u001b[1;32mreturn\u001b[0m \u001b[0mtf\u001b[0m\u001b[1;33m.\u001b[0m\u001b[0mnest\u001b[0m\u001b[1;33m.\u001b[0m\u001b[0mmap_structure\u001b[0m\u001b[1;33m(\u001b[0m\u001b[0m_to_single_numpy_or_python_type\u001b[0m\u001b[1;33m,\u001b[0m \u001b[0mtensors\u001b[0m\u001b[1;33m)\u001b[0m\u001b[1;33m\u001b[0m\u001b[1;33m\u001b[0m\u001b[0m\n\u001b[0m\u001b[0;32m    517\u001b[0m \u001b[1;33m\u001b[0m\u001b[0m\n\u001b[0;32m    518\u001b[0m \u001b[1;33m\u001b[0m\u001b[0m\n",
      "\u001b[1;32mC:\\Development\\Anaconda\\envs\\Hambot\\lib\\site-packages\\tensorflow\\python\\util\\nest.py\u001b[0m in \u001b[0;36mmap_structure\u001b[1;34m(func, *structure, **kwargs)\u001b[0m\n\u001b[0;32m    867\u001b[0m \u001b[1;33m\u001b[0m\u001b[0m\n\u001b[0;32m    868\u001b[0m   return pack_sequence_as(\n\u001b[1;32m--> 869\u001b[1;33m       \u001b[0mstructure\u001b[0m\u001b[1;33m[\u001b[0m\u001b[1;36m0\u001b[0m\u001b[1;33m]\u001b[0m\u001b[1;33m,\u001b[0m \u001b[1;33m[\u001b[0m\u001b[0mfunc\u001b[0m\u001b[1;33m(\u001b[0m\u001b[1;33m*\u001b[0m\u001b[0mx\u001b[0m\u001b[1;33m)\u001b[0m \u001b[1;32mfor\u001b[0m \u001b[0mx\u001b[0m \u001b[1;32min\u001b[0m \u001b[0mentries\u001b[0m\u001b[1;33m]\u001b[0m\u001b[1;33m,\u001b[0m\u001b[1;33m\u001b[0m\u001b[1;33m\u001b[0m\u001b[0m\n\u001b[0m\u001b[0;32m    870\u001b[0m       expand_composites=expand_composites)\n\u001b[0;32m    871\u001b[0m \u001b[1;33m\u001b[0m\u001b[0m\n",
      "\u001b[1;32mC:\\Development\\Anaconda\\envs\\Hambot\\lib\\site-packages\\tensorflow\\python\\util\\nest.py\u001b[0m in \u001b[0;36m<listcomp>\u001b[1;34m(.0)\u001b[0m\n\u001b[0;32m    867\u001b[0m \u001b[1;33m\u001b[0m\u001b[0m\n\u001b[0;32m    868\u001b[0m   return pack_sequence_as(\n\u001b[1;32m--> 869\u001b[1;33m       \u001b[0mstructure\u001b[0m\u001b[1;33m[\u001b[0m\u001b[1;36m0\u001b[0m\u001b[1;33m]\u001b[0m\u001b[1;33m,\u001b[0m \u001b[1;33m[\u001b[0m\u001b[0mfunc\u001b[0m\u001b[1;33m(\u001b[0m\u001b[1;33m*\u001b[0m\u001b[0mx\u001b[0m\u001b[1;33m)\u001b[0m \u001b[1;32mfor\u001b[0m \u001b[0mx\u001b[0m \u001b[1;32min\u001b[0m \u001b[0mentries\u001b[0m\u001b[1;33m]\u001b[0m\u001b[1;33m,\u001b[0m\u001b[1;33m\u001b[0m\u001b[1;33m\u001b[0m\u001b[0m\n\u001b[0m\u001b[0;32m    870\u001b[0m       expand_composites=expand_composites)\n\u001b[0;32m    871\u001b[0m \u001b[1;33m\u001b[0m\u001b[0m\n",
      "\u001b[1;32mC:\\Development\\Anaconda\\envs\\Hambot\\lib\\site-packages\\keras\\utils\\tf_utils.py\u001b[0m in \u001b[0;36m_to_single_numpy_or_python_type\u001b[1;34m(t)\u001b[0m\n\u001b[0;32m    510\u001b[0m   \u001b[1;32mdef\u001b[0m \u001b[0m_to_single_numpy_or_python_type\u001b[0m\u001b[1;33m(\u001b[0m\u001b[0mt\u001b[0m\u001b[1;33m)\u001b[0m\u001b[1;33m:\u001b[0m\u001b[1;33m\u001b[0m\u001b[1;33m\u001b[0m\u001b[0m\n\u001b[0;32m    511\u001b[0m     \u001b[1;32mif\u001b[0m \u001b[0misinstance\u001b[0m\u001b[1;33m(\u001b[0m\u001b[0mt\u001b[0m\u001b[1;33m,\u001b[0m \u001b[0mtf\u001b[0m\u001b[1;33m.\u001b[0m\u001b[0mTensor\u001b[0m\u001b[1;33m)\u001b[0m\u001b[1;33m:\u001b[0m\u001b[1;33m\u001b[0m\u001b[1;33m\u001b[0m\u001b[0m\n\u001b[1;32m--> 512\u001b[1;33m       \u001b[0mx\u001b[0m \u001b[1;33m=\u001b[0m \u001b[0mt\u001b[0m\u001b[1;33m.\u001b[0m\u001b[0mnumpy\u001b[0m\u001b[1;33m(\u001b[0m\u001b[1;33m)\u001b[0m\u001b[1;33m\u001b[0m\u001b[1;33m\u001b[0m\u001b[0m\n\u001b[0m\u001b[0;32m    513\u001b[0m       \u001b[1;32mreturn\u001b[0m \u001b[0mx\u001b[0m\u001b[1;33m.\u001b[0m\u001b[0mitem\u001b[0m\u001b[1;33m(\u001b[0m\u001b[1;33m)\u001b[0m \u001b[1;32mif\u001b[0m \u001b[0mnp\u001b[0m\u001b[1;33m.\u001b[0m\u001b[0mndim\u001b[0m\u001b[1;33m(\u001b[0m\u001b[0mx\u001b[0m\u001b[1;33m)\u001b[0m \u001b[1;33m==\u001b[0m \u001b[1;36m0\u001b[0m \u001b[1;32melse\u001b[0m \u001b[0mx\u001b[0m\u001b[1;33m\u001b[0m\u001b[1;33m\u001b[0m\u001b[0m\n\u001b[0;32m    514\u001b[0m     \u001b[1;32mreturn\u001b[0m \u001b[0mt\u001b[0m  \u001b[1;31m# Don't turn ragged or sparse tensors to NumPy.\u001b[0m\u001b[1;33m\u001b[0m\u001b[1;33m\u001b[0m\u001b[0m\n",
      "\u001b[1;32mC:\\Development\\Anaconda\\envs\\Hambot\\lib\\site-packages\\tensorflow\\python\\framework\\ops.py\u001b[0m in \u001b[0;36mnumpy\u001b[1;34m(self)\u001b[0m\n\u001b[0;32m   1092\u001b[0m     \"\"\"\n\u001b[0;32m   1093\u001b[0m     \u001b[1;31m# TODO(slebedev): Consider avoiding a copy for non-CPU or remote tensors.\u001b[0m\u001b[1;33m\u001b[0m\u001b[1;33m\u001b[0m\u001b[1;33m\u001b[0m\u001b[0m\n\u001b[1;32m-> 1094\u001b[1;33m     \u001b[0mmaybe_arr\u001b[0m \u001b[1;33m=\u001b[0m \u001b[0mself\u001b[0m\u001b[1;33m.\u001b[0m\u001b[0m_numpy\u001b[0m\u001b[1;33m(\u001b[0m\u001b[1;33m)\u001b[0m  \u001b[1;31m# pylint: disable=protected-access\u001b[0m\u001b[1;33m\u001b[0m\u001b[1;33m\u001b[0m\u001b[0m\n\u001b[0m\u001b[0;32m   1095\u001b[0m     \u001b[1;32mreturn\u001b[0m \u001b[0mmaybe_arr\u001b[0m\u001b[1;33m.\u001b[0m\u001b[0mcopy\u001b[0m\u001b[1;33m(\u001b[0m\u001b[1;33m)\u001b[0m \u001b[1;32mif\u001b[0m \u001b[0misinstance\u001b[0m\u001b[1;33m(\u001b[0m\u001b[0mmaybe_arr\u001b[0m\u001b[1;33m,\u001b[0m \u001b[0mnp\u001b[0m\u001b[1;33m.\u001b[0m\u001b[0mndarray\u001b[0m\u001b[1;33m)\u001b[0m \u001b[1;32melse\u001b[0m \u001b[0mmaybe_arr\u001b[0m\u001b[1;33m\u001b[0m\u001b[1;33m\u001b[0m\u001b[0m\n\u001b[0;32m   1096\u001b[0m \u001b[1;33m\u001b[0m\u001b[0m\n",
      "\u001b[1;32mC:\\Development\\Anaconda\\envs\\Hambot\\lib\\site-packages\\tensorflow\\python\\framework\\ops.py\u001b[0m in \u001b[0;36m_numpy\u001b[1;34m(self)\u001b[0m\n\u001b[0;32m   1058\u001b[0m   \u001b[1;32mdef\u001b[0m \u001b[0m_numpy\u001b[0m\u001b[1;33m(\u001b[0m\u001b[0mself\u001b[0m\u001b[1;33m)\u001b[0m\u001b[1;33m:\u001b[0m\u001b[1;33m\u001b[0m\u001b[1;33m\u001b[0m\u001b[0m\n\u001b[0;32m   1059\u001b[0m     \u001b[1;32mtry\u001b[0m\u001b[1;33m:\u001b[0m\u001b[1;33m\u001b[0m\u001b[1;33m\u001b[0m\u001b[0m\n\u001b[1;32m-> 1060\u001b[1;33m       \u001b[1;32mreturn\u001b[0m \u001b[0mself\u001b[0m\u001b[1;33m.\u001b[0m\u001b[0m_numpy_internal\u001b[0m\u001b[1;33m(\u001b[0m\u001b[1;33m)\u001b[0m\u001b[1;33m\u001b[0m\u001b[1;33m\u001b[0m\u001b[0m\n\u001b[0m\u001b[0;32m   1061\u001b[0m     \u001b[1;32mexcept\u001b[0m \u001b[0mcore\u001b[0m\u001b[1;33m.\u001b[0m\u001b[0m_NotOkStatusException\u001b[0m \u001b[1;32mas\u001b[0m \u001b[0me\u001b[0m\u001b[1;33m:\u001b[0m  \u001b[1;31m# pylint: disable=protected-access\u001b[0m\u001b[1;33m\u001b[0m\u001b[1;33m\u001b[0m\u001b[0m\n\u001b[0;32m   1062\u001b[0m       \u001b[0msix\u001b[0m\u001b[1;33m.\u001b[0m\u001b[0mraise_from\u001b[0m\u001b[1;33m(\u001b[0m\u001b[0mcore\u001b[0m\u001b[1;33m.\u001b[0m\u001b[0m_status_to_exception\u001b[0m\u001b[1;33m(\u001b[0m\u001b[0me\u001b[0m\u001b[1;33m.\u001b[0m\u001b[0mcode\u001b[0m\u001b[1;33m,\u001b[0m \u001b[0me\u001b[0m\u001b[1;33m.\u001b[0m\u001b[0mmessage\u001b[0m\u001b[1;33m)\u001b[0m\u001b[1;33m,\u001b[0m \u001b[1;32mNone\u001b[0m\u001b[1;33m)\u001b[0m  \u001b[1;31m# pylint: disable=protected-access\u001b[0m\u001b[1;33m\u001b[0m\u001b[1;33m\u001b[0m\u001b[0m\n",
      "\u001b[1;31mKeyboardInterrupt\u001b[0m: "
     ]
    }
   ],
   "source": [
    "## Model Training\n",
    "\n",
    "logdir = \"logs/\" + '128x2_64x32x64_64x2_0.1D_0.01L'\n",
    "callbacks=[\n",
    "      tfk.callbacks.EarlyStopping(\n",
    "            patience=50,\n",
    "            mode='min',\n",
    "            min_delta=1e-6,\n",
    "            restore_best_weights=True,\n",
    "            verbose=1\n",
    "      ),\n",
    "      #tfk.callbacks.ReduceLROnPlateau(\n",
    "      #      factor=0.5, \n",
    "      #      patience=20,\n",
    "      #      mode='min',\n",
    "      #      min_delta=1e-7,\n",
    "      #      verbose=1\n",
    "      #),\n",
    "     #tfk.callbacks.TensorBoard(log_dir=logdir, write_graph=False, histogram_freq=1)\n",
    "  ]\n",
    "numSnapshots = 10\n",
    "snapshot = SnapshotCallbackBuilder(EPOCHS, numSnapshots, 0.1) \n",
    "callbacks = callbacks + snapshot.get_callbacks()\n",
    "    \n",
    "lossHistory = model.fit(trainDataGenerator,\n",
    "                        validation_data=testDataGenerator,\n",
    "                        epochs=EPOCHS,\n",
    "                        batch_size=BATCHSIZE,\n",
    "                        shuffle=False,\n",
    "                        callbacks=callbacks\n",
    "                       )\n",
    "lossHistory = pd.DataFrame(lossHistory.history)"
   ]
  },
  {
   "cell_type": "code",
   "execution_count": 62,
   "metadata": {
    "ExecuteTime": {
     "end_time": "2022-08-16T08:59:40.003583Z",
     "start_time": "2022-08-16T08:59:39.576584Z"
    }
   },
   "outputs": [
    {
     "data": {
      "image/png": "[encoded data removed]",
      "text/plain": [
       "<Figure size 864x504 with 2 Axes>"
      ]
     },
     "metadata": {
      "needs_background": "light"
     },
     "output_type": "display_data"
    }
   ],
   "source": [
    "fig, ax = plt.subplots(2,1, sharex=True, figsize=(12,7))\n",
    "lossHistory.loc[:,['loss','val_loss']].iloc[1:,:].plot(ax=ax[0], xlabel='Epochs', title='Loss History')\n",
    "lossHistory.loc[:,['binary_accuracy', 'val_binary_accuracy']].iloc[1:,:].plot(ax=ax[1], xlabel='Epochs', title='Accuracy')\n",
    "plt.show()"
   ]
  },
  {
   "cell_type": "markdown",
   "metadata": {},
   "source": [
    "### Estimation"
   ]
  },
  {
   "cell_type": "code",
   "execution_count": 63,
   "metadata": {
    "ExecuteTime": {
     "end_time": "2022-08-16T08:59:46.032364Z",
     "start_time": "2022-08-16T08:59:41.998369Z"
    }
   },
   "outputs": [
    {
     "name": "stdout",
     "output_type": "stream",
     "text": [
      "37/37 [==============================] - 3s 56ms/step\n",
      "10/10 [==============================] - 1s 53ms/step\n"
     ]
    }
   ],
   "source": [
    "Y_hat_train = model.predict(trainDataGenerator, verbose=1)\n",
    "Y_hat_test = model.predict(testDataGenerator, verbose=1)"
   ]
  },
  {
   "cell_type": "code",
   "execution_count": 64,
   "metadata": {
    "ExecuteTime": {
     "end_time": "2022-08-16T08:59:46.474363Z",
     "start_time": "2022-08-16T08:59:46.033365Z"
    }
   },
   "outputs": [],
   "source": [
    "Y_hat_train = pd.DataFrame(Y_hat_train, index=train_IDs)\n",
    "Y_hat_train.columns = ['Estimate']\n",
    "Y_hat_test = pd.DataFrame(Y_hat_test, index=test_IDs)\n",
    "Y_hat_test.columns = ['Estimate']\n",
    "\n",
    "Y_train = pd.DataFrame(Y_train, index=train_IDs)\n",
    "Y_train.columns = ['True']\n",
    "Y_test = pd.DataFrame(Y_test, index=test_IDs)\n",
    "Y_test.columns = ['True']"
   ]
  },
  {
   "cell_type": "markdown",
   "metadata": {},
   "source": [
    "### Evaluation"
   ]
  },
  {
   "cell_type": "code",
   "execution_count": 65,
   "metadata": {
    "ExecuteTime": {
     "end_time": "2022-08-16T08:59:46.505363Z",
     "start_time": "2022-08-16T08:59:46.475365Z"
    },
    "code_folding": [
     3,
     41
    ]
   },
   "outputs": [],
   "source": [
    "from IPython.display import display, Markdown\n",
    "from sklearn.metrics import classification_report, confusion_matrix, ConfusionMatrixDisplay, roc_curve, RocCurveDisplay, roc_auc_score\n",
    "\n",
    "def Evaluate(Y_true, Y_hat, name='TRAIN', loss=None):\n",
    "    \"\"\"\n",
    "    Full evaluation report.\n",
    "    \"\"\"\n",
    "    txt = f'EVALUATION REPORT FOR {name} SET'\n",
    "    display(Markdown(f'**{txt}**'))\n",
    "    \n",
    "    \n",
    "    # Estimated status: Good Standing (0) or Default (1)\n",
    "    status = Y_true['True']\n",
    "    status_hat = Y_hat['Estimate'].apply(lambda p: 1 if p >= 0.5 else 0)\n",
    "    \n",
    "    fig,ax = plt.subplots(1,2, figsize=(12,7))\n",
    "    \n",
    "    ## Confusion Matrix\n",
    "    \n",
    "    cm = confusion_matrix(status, status_hat, normalize='all')\n",
    "    ax[0].set_title('Confusion Matrix')\n",
    "    disp = ConfusionMatrixDisplay(cm, display_labels=['Good Standing', 'Default'])\n",
    "    disp.plot(ax=ax[0])\n",
    "    \n",
    "    ## ROC-AUC Curve\n",
    "    fpr, tpr, _ = roc_curve(status, Y_hat['Estimate'])\n",
    "    auc = roc_auc_score(status, Y_hat['Estimate'])\n",
    "    RocCurveDisplay(fpr=fpr, tpr=tpr).plot(ax=ax[1])\n",
    "    ax[1].set_title('ROC-AUC Curve')\n",
    "    plt.show()\n",
    "    \n",
    "    ## Classification Report\n",
    "    \n",
    "    cr = classification_report(status, status_hat, output_dict=True)\n",
    "    classMetrics = pd.DataFrame({k : cr[k] for k in ['0.0','1.0']})\n",
    "    classMetrics.columns = ['Good Standing', 'Default']\n",
    "    display(classMetrics)\n",
    "    \n",
    "    ## Full Metrics\n",
    "    \n",
    "    # Official Evaluation Metric\n",
    "    def ComputeEvaluationMetric(Y_true, Y_hat):\n",
    "        \"\"\"\n",
    "        Computes the official evaluation metric:\n",
    "            M = 0.5 * (G + D)\n",
    "        where G is normalized Gini coefficient, D is default rate. Negative labels are weighted by 20\n",
    "        due to data downsampling.\n",
    "        \"\"\"\n",
    "\n",
    "        def WeightedGiniCoefficient(df):\n",
    "\n",
    "            # Weighted negative labels due to downsampling\n",
    "            weights = df['True'].apply( lambda x: 20 if x==0 else 1 )\n",
    "\n",
    "            # Random assignment (Gini=0)\n",
    "            random = (weights / weights.sum()).cumsum()\n",
    "\n",
    "            # Total & Cumulative number of credit defaults\n",
    "            totalDefaults = (df['True'] * weights).sum()\n",
    "            cumDefaults = (df['True'] * weights).cumsum()\n",
    "\n",
    "            # Lorenz curve \n",
    "            lorenz = cumDefaults / totalDefaults\n",
    "\n",
    "            # Gini coefficient\n",
    "            gini = ( (lorenz - random) * weights ).sum()\n",
    "\n",
    "            return gini\n",
    "\n",
    "        def DefaultRate(df):\n",
    "\n",
    "            # Weighted negative labels due to downsampling\n",
    "            weights = df['True'].apply( lambda x: 20 if x==0 else 1 )\n",
    "\n",
    "            # Cumulative weights\n",
    "            cumWeights = weights.cumsum()\n",
    "\n",
    "            # Cumulative cut-off point for highest 4% of estimates\n",
    "            cutoff = int( 0.04 * weights.sum() )\n",
    "            df_cutoff = df.loc[ cumWeights <= cutoff, : ]\n",
    "\n",
    "            # Default rate\n",
    "            totalDefaults = (df['True'] == 1).sum()\n",
    "            estCutoffDefaults = (df_cutoff['True'] == 1).sum()\n",
    "            defaultRate = estCutoffDefaults / totalDefaults\n",
    "\n",
    "            return defaultRate\n",
    "\n",
    "        df = pd.concat([Y_true, Y_hat], axis=1)\n",
    "        df.columns = ['True', 'Estimate']\n",
    "        df = df.sort_values('Estimate', ascending=False)\n",
    "\n",
    "        ## Compute normalized Gini coefficient: G\n",
    "\n",
    "        giniCoeff = WeightedGiniCoefficient( df )\n",
    "\n",
    "        df2 = pd.concat([Y_true, Y_true], axis=1)\n",
    "        df2.columns = ['True', 'Estimate']\n",
    "        df2 = df2.sort_values('Estimate', ascending=False)\n",
    "        giniNormFactor = WeightedGiniCoefficient( df2 )\n",
    "\n",
    "        G = giniCoeff / giniNormFactor\n",
    "\n",
    "        ## Compute Default Rate\n",
    "\n",
    "        D = DefaultRate( df )\n",
    "\n",
    "        ## Evaluation Metric\n",
    "\n",
    "        metric = 0.5 * (G + D)\n",
    "\n",
    "        return metric\n",
    "    evalMetric = ComputeEvaluationMetric(Y_true, Y_hat)\n",
    "    \n",
    "    allMetrics = {\n",
    "        'Official Metric' : evalMetric,\n",
    "        'AUC' : auc,\n",
    "        'Accuracy' : cr['accuracy'],\n",
    "        'Loss' : loss\n",
    "    }\n",
    "    allMetrics = pd.DataFrame(allMetrics, index=['.']).T\n",
    "    display(allMetrics)\n",
    "    \n",
    "    return"
   ]
  },
  {
   "cell_type": "code",
   "execution_count": 66,
   "metadata": {
    "ExecuteTime": {
     "end_time": "2022-08-16T08:59:52.711899Z",
     "start_time": "2022-08-16T08:59:47.706901Z"
    }
   },
   "outputs": [
    {
     "data": {
      "text/markdown": [
       "**EVALUATION REPORT FOR TRAIN SET**"
      ],
      "text/plain": [
       "<IPython.core.display.Markdown object>"
      ]
     },
     "metadata": {},
     "output_type": "display_data"
    },
    {
     "data": {
      "image/png": "[encoded data removed]",
      "text/plain": [
       "<Figure size 864x504 with 3 Axes>"
      ]
     },
     "metadata": {
      "needs_background": "light"
     },
     "output_type": "display_data"
    },
    {
     "data": {
      "text/html": [
       "<div>\n",
       "<style scoped>\n",
       "    .dataframe tbody tr th:only-of-type {\n",
       "        vertical-align: middle;\n",
       "    }\n",
       "\n",
       "    .dataframe tbody tr th {\n",
       "        vertical-align: top;\n",
       "    }\n",
       "\n",
       "    .dataframe thead th {\n",
       "        text-align: right;\n",
       "    }\n",
       "</style>\n",
       "<table border=\"1\" class=\"dataframe\">\n",
       "  <thead>\n",
       "    <tr style=\"text-align: right;\">\n",
       "      <th></th>\n",
       "      <th>Good Standing</th>\n",
       "      <th>Default</th>\n",
       "    </tr>\n",
       "  </thead>\n",
       "  <tbody>\n",
       "    <tr>\n",
       "      <th>precision</th>\n",
       "      <td>0.976755</td>\n",
       "      <td>0.679305</td>\n",
       "    </tr>\n",
       "    <tr>\n",
       "      <th>recall</th>\n",
       "      <td>0.844526</td>\n",
       "      <td>0.942483</td>\n",
       "    </tr>\n",
       "    <tr>\n",
       "      <th>f1-score</th>\n",
       "      <td>0.905840</td>\n",
       "      <td>0.789540</td>\n",
       "    </tr>\n",
       "    <tr>\n",
       "      <th>support</th>\n",
       "      <td>272064.000000</td>\n",
       "      <td>95067.000000</td>\n",
       "    </tr>\n",
       "  </tbody>\n",
       "</table>\n",
       "</div>"
      ],
      "text/plain": [
       "           Good Standing       Default\n",
       "precision       0.976755      0.679305\n",
       "recall          0.844526      0.942483\n",
       "f1-score        0.905840      0.789540\n",
       "support    272064.000000  95067.000000"
      ]
     },
     "metadata": {},
     "output_type": "display_data"
    },
    {
     "data": {
      "text/html": [
       "<div>\n",
       "<style scoped>\n",
       "    .dataframe tbody tr th:only-of-type {\n",
       "        vertical-align: middle;\n",
       "    }\n",
       "\n",
       "    .dataframe tbody tr th {\n",
       "        vertical-align: top;\n",
       "    }\n",
       "\n",
       "    .dataframe thead th {\n",
       "        text-align: right;\n",
       "    }\n",
       "</style>\n",
       "<table border=\"1\" class=\"dataframe\">\n",
       "  <thead>\n",
       "    <tr style=\"text-align: right;\">\n",
       "      <th></th>\n",
       "      <th>.</th>\n",
       "    </tr>\n",
       "  </thead>\n",
       "  <tbody>\n",
       "    <tr>\n",
       "      <th>Official Metric</th>\n",
       "      <td>0.783373</td>\n",
       "    </tr>\n",
       "    <tr>\n",
       "      <th>AUC</th>\n",
       "      <td>0.960035</td>\n",
       "    </tr>\n",
       "    <tr>\n",
       "      <th>Accuracy</th>\n",
       "      <td>0.869891</td>\n",
       "    </tr>\n",
       "    <tr>\n",
       "      <th>Loss</th>\n",
       "      <td>0.222859</td>\n",
       "    </tr>\n",
       "  </tbody>\n",
       "</table>\n",
       "</div>"
      ],
      "text/plain": [
       "                        .\n",
       "Official Metric  0.783373\n",
       "AUC              0.960035\n",
       "Accuracy         0.869891\n",
       "Loss             0.222859"
      ]
     },
     "metadata": {},
     "output_type": "display_data"
    }
   ],
   "source": [
    "loss = model.evaluate(trainDataGenerator, verbose=0, return_dict=True)['loss']\n",
    "Evaluate(Y_train, Y_hat_train, name='TRAIN', loss=loss)"
   ]
  },
  {
   "cell_type": "code",
   "execution_count": 67,
   "metadata": {
    "ExecuteTime": {
     "end_time": "2022-08-16T08:59:54.253898Z",
     "start_time": "2022-08-16T08:59:52.712899Z"
    }
   },
   "outputs": [
    {
     "data": {
      "text/markdown": [
       "**EVALUATION REPORT FOR TEST SET**"
      ],
      "text/plain": [
       "<IPython.core.display.Markdown object>"
      ]
     },
     "metadata": {},
     "output_type": "display_data"
    },
    {
     "data": {
      "image/png": "[encoded data removed]",
      "text/plain": [
       "<Figure size 864x504 with 3 Axes>"
      ]
     },
     "metadata": {
      "needs_background": "light"
     },
     "output_type": "display_data"
    },
    {
     "data": {
      "text/html": [
       "<div>\n",
       "<style scoped>\n",
       "    .dataframe tbody tr th:only-of-type {\n",
       "        vertical-align: middle;\n",
       "    }\n",
       "\n",
       "    .dataframe tbody tr th {\n",
       "        vertical-align: top;\n",
       "    }\n",
       "\n",
       "    .dataframe thead th {\n",
       "        text-align: right;\n",
       "    }\n",
       "</style>\n",
       "<table border=\"1\" class=\"dataframe\">\n",
       "  <thead>\n",
       "    <tr style=\"text-align: right;\">\n",
       "      <th></th>\n",
       "      <th>Good Standing</th>\n",
       "      <th>Default</th>\n",
       "    </tr>\n",
       "  </thead>\n",
       "  <tbody>\n",
       "    <tr>\n",
       "      <th>precision</th>\n",
       "      <td>0.975437</td>\n",
       "      <td>0.675607</td>\n",
       "    </tr>\n",
       "    <tr>\n",
       "      <th>recall</th>\n",
       "      <td>0.842460</td>\n",
       "      <td>0.939270</td>\n",
       "    </tr>\n",
       "    <tr>\n",
       "      <th>f1-score</th>\n",
       "      <td>0.904085</td>\n",
       "      <td>0.785914</td>\n",
       "    </tr>\n",
       "    <tr>\n",
       "      <th>support</th>\n",
       "      <td>68021.000000</td>\n",
       "      <td>23761.000000</td>\n",
       "    </tr>\n",
       "  </tbody>\n",
       "</table>\n",
       "</div>"
      ],
      "text/plain": [
       "           Good Standing       Default\n",
       "precision       0.975437      0.675607\n",
       "recall          0.842460      0.939270\n",
       "f1-score        0.904085      0.785914\n",
       "support     68021.000000  23761.000000"
      ]
     },
     "metadata": {},
     "output_type": "display_data"
    },
    {
     "data": {
      "text/html": [
       "<div>\n",
       "<style scoped>\n",
       "    .dataframe tbody tr th:only-of-type {\n",
       "        vertical-align: middle;\n",
       "    }\n",
       "\n",
       "    .dataframe tbody tr th {\n",
       "        vertical-align: top;\n",
       "    }\n",
       "\n",
       "    .dataframe thead th {\n",
       "        text-align: right;\n",
       "    }\n",
       "</style>\n",
       "<table border=\"1\" class=\"dataframe\">\n",
       "  <thead>\n",
       "    <tr style=\"text-align: right;\">\n",
       "      <th></th>\n",
       "      <th>.</th>\n",
       "    </tr>\n",
       "  </thead>\n",
       "  <tbody>\n",
       "    <tr>\n",
       "      <th>Official Metric</th>\n",
       "      <td>0.772698</td>\n",
       "    </tr>\n",
       "    <tr>\n",
       "      <th>AUC</th>\n",
       "      <td>0.956916</td>\n",
       "    </tr>\n",
       "    <tr>\n",
       "      <th>Accuracy</th>\n",
       "      <td>0.867523</td>\n",
       "    </tr>\n",
       "    <tr>\n",
       "      <th>Loss</th>\n",
       "      <td>0.233409</td>\n",
       "    </tr>\n",
       "  </tbody>\n",
       "</table>\n",
       "</div>"
      ],
      "text/plain": [
       "                        .\n",
       "Official Metric  0.772698\n",
       "AUC              0.956916\n",
       "Accuracy         0.867523\n",
       "Loss             0.233409"
      ]
     },
     "metadata": {},
     "output_type": "display_data"
    }
   ],
   "source": [
    "loss = model.evaluate(testDataGenerator, verbose=0, return_dict=True)['loss']\n",
    "Evaluate(Y_test, Y_hat_test, name='TEST', loss=loss)"
   ]
  },
  {
   "cell_type": "markdown",
   "metadata": {
    "heading_collapsed": true
   },
   "source": [
    "### Approximate Loss Monte Carlo Experiments"
   ]
  },
  {
   "cell_type": "code",
   "execution_count": 38,
   "metadata": {
    "ExecuteTime": {
     "end_time": "2022-08-16T02:20:46.551836Z",
     "start_time": "2022-08-16T02:20:46.527836Z"
    },
    "code_folding": [
     0,
     4,
     32
    ],
    "hidden": true
   },
   "outputs": [],
   "source": [
    "def ComputeLossBreakdown(Y_true, Y_hat, BATCHSIZE=2500):\n",
    "    gamma = 0.45\n",
    "    delta=2\n",
    "    rho=0.57\n",
    "    def SmoothApproxAUCLoss(y_true, y_hat):\n",
    "        \"\"\"\n",
    "        Smooth and differentiable approximation to negative (unweighted) AUC for minimization.\n",
    "\n",
    "        Reference: Lian, Yan, et al. Optimizing Classifier Performance via an Approximation to the Wilcoxon-Mann-Whitney Statistic. 2003.\n",
    "        \"\"\"\n",
    "        DTYPE = y_true.dtype\n",
    "\n",
    "        # Indicators for true positive/negative labels\n",
    "        i_idx = tf.equal(y_true, 1)\n",
    "        j_idx = tf.equal(y_true, 0)\n",
    "        I = tf.math.reduce_sum(tf.cast(i_idx, DTYPE))\n",
    "        J = tf.math.reduce_sum(tf.cast(j_idx, DTYPE))\n",
    "\n",
    "        # Estimated probabilities for true positive/negative labels\n",
    "        p_plus = tf.expand_dims(tf.expand_dims(y_hat[i_idx], axis=-1), axis=-1)  # Shape: (I, 1, 1)\n",
    "        p_neg = tf.expand_dims(y_hat[j_idx], axis=-1)                            # Shape: (J, 1)\n",
    "\n",
    "        # Approx AUC per (i,j) pair of estimates\n",
    "        R_ij = tf.where( \n",
    "                (p_plus - p_neg < gamma), \n",
    "                tf.math.pow(-( p_plus - p_neg - gamma ), delta), \n",
    "                0.\n",
    "            )\n",
    "\n",
    "        # Sample Approx AUC metric\n",
    "        R = tf.math.reduce_sum( R_ij ) / (I * J)\n",
    "        return R\n",
    "    def SmoothApproxDefaultRateLoss(y_true, y_hat):\n",
    "        \"\"\"\n",
    "        Smooth and differentiable approximation to negative default rate loss for minimization.\n",
    "        Note: Differentiability is ensured by including the magnitude of probability estimates.\n",
    "        \"\"\"\n",
    "        # Sort by estimated probabilities\n",
    "        sorted_idx = tf.argsort(y_hat[:,0], axis=0, direction='DESCENDING')\n",
    "        y_true = tf.gather(y_true, sorted_idx, axis=0)\n",
    "        y_hat = tf.gather(y_hat, sorted_idx, axis=0)\n",
    "\n",
    "        # Simulate upsampling at ratio of 20:1\n",
    "        weights = (20. - (19. * y_true))[:,0]\n",
    "        upsampledN = tf.math.reduce_sum(weights)\n",
    "\n",
    "        # Cutoff at top 4% of upsampled data\n",
    "        cutoff = tf.math.reduce_max(tf.where(tf.math.cumsum(weights) <= (0.04 * upsampledN)))\n",
    "\n",
    "        # Approx Default Rate: Proportion of top 4% captured\n",
    "        defaultRate = -(tf.math.reduce_sum(y_true[:cutoff,:] * y_hat[:cutoff,:]) / tf.math.reduce_sum(y_true))\n",
    "        return defaultRate\n",
    "    N = Y_true.shape[0]\n",
    "    Y_true = tf.constant(Y_true, dtype=tf.float32)\n",
    "    Y_hat = tf.constant(Y_hat, dtype=tf.float32)\n",
    "    G_loss = 0.\n",
    "    D_loss = 0.\n",
    "    for k in range(int(N/BATCHSIZE)+1):\n",
    "        batch_y = Y_true[(k*BATCHSIZE):((k+1)*BATCHSIZE),:]\n",
    "        batch_y_hat = Y_hat[(k*BATCHSIZE):((k+1)*BATCHSIZE),:]\n",
    "        batch_auc = SmoothApproxAUCLoss(batch_y, batch_y_hat).numpy()\n",
    "        batch_d = SmoothApproxDefaultRateLoss(batch_y, batch_y_hat).numpy()\n",
    "        batch_G = (2*batch_auc) + 1\n",
    "        G_loss = G_loss + ((batch_G - G_loss)/(k+1))\n",
    "        D_loss = D_loss + ((batch_d - D_loss)/(k+1))\n",
    "    return (G_loss, D_loss)\n",
    "ComputeLossBreakdown(Y_train, Y_hat_train)"
   ]
  },
  {
   "cell_type": "code",
   "execution_count": 40,
   "metadata": {
    "ExecuteTime": {
     "end_time": "2022-08-16T02:22:34.296182Z",
     "start_time": "2022-08-16T02:22:34.268173Z"
    },
    "code_folding": [
     0,
     25,
     104,
     115
    ],
    "hidden": true
   },
   "outputs": [],
   "source": [
    "def amex_metric_np(target, preds):\n",
    "    \"\"\"\n",
    "    Unofficial numpy version of competition metric.\n",
    "    \n",
    "    Source: https://www.kaggle.com/competitions/amex-default-prediction/discussion/328020\n",
    "    \"\"\"\n",
    "    indices = np.argsort(preds)[::-1]\n",
    "    preds, target = preds[indices], target[indices]\n",
    "\n",
    "    weight = 20.0 - target * 19.0\n",
    "    cum_norm_weight = (weight / weight.sum()).cumsum()\n",
    "    four_pct_mask = cum_norm_weight <= 0.04\n",
    "    d = np.sum(target[four_pct_mask]) / np.sum(target)\n",
    "\n",
    "    weighted_target = target * weight\n",
    "    lorentz = (weighted_target / weighted_target.sum()).cumsum()\n",
    "    gini = ((lorentz - cum_norm_weight) * weight).sum()\n",
    "\n",
    "    n_pos = np.sum(target)\n",
    "    n_neg = target.shape[0] - n_pos\n",
    "    gini_max = 10 * n_neg * (n_pos + 20 * n_neg - 19) / (n_pos + 20 * n_neg)\n",
    "\n",
    "    g = gini / gini_max\n",
    "    return 0.5 * (g + d)\n",
    "\n",
    "def CompositeLoss(classWeights, gamma=0.55, delta=2):\n",
    "    \"\"\"\n",
    "    Composite loss for jointly optimizing maximum likelihood and smooth approximation to AUC via \n",
    "    gradient-based minimization.\n",
    "\n",
    "    Hyperparameters are calibrated via Monte Carlo experiments to approximate official metric \n",
    "    and maximize correlations:\n",
    "        `gamma` : 0.55 [Threshold parameter in approxiate AUC for pairwise separation]\n",
    "        `delta` : 2 [Uncalibrated parameter in approximate AUC - ensures convexity]\n",
    "    \"\"\"\n",
    "    def compute_loss(y_true, y_hat):\n",
    "        def BinaryCE(y_true, y_hat):\n",
    "            epsilon = 1e-6\n",
    "            loss = -( (classWeights[1] * y_true * tf.math.log(y_hat + epsilon)) + (classWeights[0] * (1.0 - y_true) * tf.math.log(1.0 - (y_hat-epsilon))) )\n",
    "            return tf.reduce_sum(loss, axis=-1)\n",
    "        def SmoothApproxAUCLoss(y_true, y_hat):\n",
    "            \"\"\"\n",
    "            Smooth and differentiable approximation to negative (unweighted) AUC for minimization.\n",
    "\n",
    "            Reference: Lian, Yan, et al. Optimizing Classifier Performance via an Approximation to the Wilcoxon-Mann-Whitney Statistic. 2003.\n",
    "            \"\"\"\n",
    "            DTYPE = y_true.dtype\n",
    "\n",
    "            # Indicators for true positive/negative labels\n",
    "            i_idx = tf.equal(y_true, 1)\n",
    "            j_idx = tf.equal(y_true, 0)\n",
    "            I = tf.math.reduce_sum(tf.cast(i_idx, DTYPE))\n",
    "            J = tf.math.reduce_sum(tf.cast(j_idx, DTYPE))\n",
    "\n",
    "            # Estimated probabilities for true positive/negative labels\n",
    "            p_plus = tf.expand_dims(tf.expand_dims(y_hat[i_idx], axis=-1), axis=-1)  # Shape: (I, 1, 1)\n",
    "            p_neg = tf.expand_dims(y_hat[j_idx], axis=-1)                            # Shape: (J, 1)\n",
    "\n",
    "            # Approx AUC per (i,j) pair of estimates\n",
    "            R_ij = tf.where( \n",
    "                    (p_plus - p_neg < gamma), \n",
    "                    tf.math.pow(-( p_plus - p_neg - gamma ), delta), \n",
    "                    0.\n",
    "                )\n",
    "\n",
    "            # Sample Approx AUC metric\n",
    "            R = tf.math.reduce_sum( R_ij ) / (I * J)\n",
    "            return R\n",
    "        def SmoothApproxDefaultRateLoss(y_true, y_hat):\n",
    "            \"\"\"\n",
    "            Smooth and differentiable approximation to negative default rate loss for minimization.\n",
    "            Note: Differentiability is ensured by including the magnitude of probability estimates.\n",
    "            \"\"\"\n",
    "            # Sort by estimated probabilities\n",
    "            sorted_idx = tf.argsort(y_hat[:,0], axis=0, direction='DESCENDING')\n",
    "            y_true = tf.gather(y_true, sorted_idx, axis=0)\n",
    "            y_hat = tf.gather(y_hat, sorted_idx, axis=0)\n",
    "\n",
    "            # Simulate upsampling at ratio of 20:1\n",
    "            weights = (20. - (19. * y_true))[:,0]\n",
    "            upsampledN = tf.math.reduce_sum(weights)\n",
    "\n",
    "            # Cutoff at top 4% of upsampled data\n",
    "            cutoff = tf.math.reduce_max(tf.where(tf.math.cumsum(weights) <= (0.04 * upsampledN)))\n",
    "\n",
    "            # Approx Default Rate: Proportion of top 4% captured\n",
    "            defaultRate = -(tf.math.reduce_sum(y_true[:cutoff,:] * y_hat[:cutoff,:]) / tf.math.reduce_sum(y_true))\n",
    "            return defaultRate\n",
    "\n",
    "        # MLE of Y|X ~ Bernoulli(f_DNN(X))\n",
    "        #logLik = BinaryCE(y_true, y_hat)\n",
    "\n",
    "        # Smooth Approximation to negative AUC\n",
    "        AUC = SmoothApproxAUCLoss(y_true, y_hat)\n",
    "        G = 2*AUC + 1.\n",
    "\n",
    "        # Smooth Approximation to negative Default Rate\n",
    "        D = SmoothApproxDefaultRateLoss(y_true, y_hat)\n",
    "\n",
    "        # Composite Loss\n",
    "        loss = 0.5 * (G + D)\n",
    "        return loss\n",
    "    return compute_loss\n",
    "    \n",
    "def MonteCarloLossAnalysis(Y_true, Y_hat, official_loss, surrogate_loss, R=100, numSamples=5000):\n",
    "    \"\"\"\n",
    "    Analysis of official loss metric vs surrogate loss via Monte Carlo experiments.\n",
    "    \"\"\"\n",
    "    idx = [n for n in range(len(Y_true))]\n",
    "    Y_true_np, Y_hat_np = np.ravel(Y_true.values), np.ravel(Y_hat.values)\n",
    "    Y_true_ts, Y_hat_ts = tf.constant(Y_true, dtype=tf.float32), tf.constant(Y_hat, tf.float32)\n",
    "    surrogate_loss = tf.function(surrogate_loss)\n",
    "    \n",
    "    ## Monte Carlo experiments\n",
    "    results = []\n",
    "    for r in tqdm(range(R)):\n",
    "        \n",
    "        # Random sample\n",
    "        sample_idx = random.sample(idx, numSamples)\n",
    "        Y_true_np_sample, Y_hat_np_sample = Y_true_np[sample_idx], Y_hat_np[sample_idx]\n",
    "        Y_true_ts_sample, Y_hat_ts_sample = tf.gather(Y_true_ts, sample_idx, axis=0), tf.gather(Y_hat_ts, sample_idx, axis=0)\n",
    "        \n",
    "        # Competition metric\n",
    "        official_loss_val = official_loss(Y_true_np_sample, Y_hat_np_sample)\n",
    "        \n",
    "        # Surrogate metric\n",
    "        surrogate_loss_val = surrogate_loss(Y_true_ts_sample, Y_hat_ts_sample).numpy()\n",
    "        \n",
    "        results.append( (official_loss_val, surrogate_loss_val) )\n",
    "    results = pd.DataFrame(results)\n",
    "    results.columns = ['Official', 'Surrogate']\n",
    "    return results"
   ]
  },
  {
   "cell_type": "code",
   "execution_count": 41,
   "metadata": {
    "ExecuteTime": {
     "end_time": "2022-08-16T02:23:10.006499Z",
     "start_time": "2022-08-16T02:22:58.363859Z"
    },
    "hidden": true,
    "scrolled": true
   },
   "outputs": [
    {
     "name": "stderr",
     "output_type": "stream",
     "text": [
      "100%|██████████████████████████████████████████████████████████████████████████████| 1000/1000 [00:11<00:00, 88.43it/s]\n"
     ]
    },
    {
     "data": {
      "text/html": [
       "<div>\n",
       "<style scoped>\n",
       "    .dataframe tbody tr th:only-of-type {\n",
       "        vertical-align: middle;\n",
       "    }\n",
       "\n",
       "    .dataframe tbody tr th {\n",
       "        vertical-align: top;\n",
       "    }\n",
       "\n",
       "    .dataframe thead th {\n",
       "        text-align: right;\n",
       "    }\n",
       "</style>\n",
       "<table border=\"1\" class=\"dataframe\">\n",
       "  <thead>\n",
       "    <tr style=\"text-align: right;\">\n",
       "      <th></th>\n",
       "      <th>Official</th>\n",
       "      <th>Surrogate</th>\n",
       "    </tr>\n",
       "  </thead>\n",
       "  <tbody>\n",
       "    <tr>\n",
       "      <th>0</th>\n",
       "      <td>0.800319</td>\n",
       "      <td>0.309624</td>\n",
       "    </tr>\n",
       "    <tr>\n",
       "      <th>1</th>\n",
       "      <td>0.797969</td>\n",
       "      <td>0.311522</td>\n",
       "    </tr>\n",
       "    <tr>\n",
       "      <th>2</th>\n",
       "      <td>0.804405</td>\n",
       "      <td>0.307133</td>\n",
       "    </tr>\n",
       "    <tr>\n",
       "      <th>3</th>\n",
       "      <td>0.779102</td>\n",
       "      <td>0.326293</td>\n",
       "    </tr>\n",
       "    <tr>\n",
       "      <th>4</th>\n",
       "      <td>0.802369</td>\n",
       "      <td>0.307993</td>\n",
       "    </tr>\n",
       "  </tbody>\n",
       "</table>\n",
       "</div>"
      ],
      "text/plain": [
       "   Official  Surrogate\n",
       "0  0.800319   0.309624\n",
       "1  0.797969   0.311522\n",
       "2  0.804405   0.307133\n",
       "3  0.779102   0.326293\n",
       "4  0.802369   0.307993"
      ]
     },
     "metadata": {},
     "output_type": "display_data"
    },
    {
     "name": "stdout",
     "output_type": "stream",
     "text": [
      "Correlations:\n"
     ]
    },
    {
     "data": {
      "text/html": [
       "<div>\n",
       "<style scoped>\n",
       "    .dataframe tbody tr th:only-of-type {\n",
       "        vertical-align: middle;\n",
       "    }\n",
       "\n",
       "    .dataframe tbody tr th {\n",
       "        vertical-align: top;\n",
       "    }\n",
       "\n",
       "    .dataframe thead th {\n",
       "        text-align: right;\n",
       "    }\n",
       "</style>\n",
       "<table border=\"1\" class=\"dataframe\">\n",
       "  <thead>\n",
       "    <tr style=\"text-align: right;\">\n",
       "      <th></th>\n",
       "      <th>Official</th>\n",
       "      <th>Surrogate</th>\n",
       "    </tr>\n",
       "  </thead>\n",
       "  <tbody>\n",
       "    <tr>\n",
       "      <th>Official</th>\n",
       "      <td>1.000000</td>\n",
       "      <td>-0.998487</td>\n",
       "    </tr>\n",
       "    <tr>\n",
       "      <th>Surrogate</th>\n",
       "      <td>-0.998487</td>\n",
       "      <td>1.000000</td>\n",
       "    </tr>\n",
       "  </tbody>\n",
       "</table>\n",
       "</div>"
      ],
      "text/plain": [
       "           Official  Surrogate\n",
       "Official   1.000000  -0.998487\n",
       "Surrogate -0.998487   1.000000"
      ]
     },
     "metadata": {},
     "output_type": "display_data"
    },
    {
     "data": {
      "image/png": "[encoded data removed]",
      "text/plain": [
       "<Figure size 432x288 with 2 Axes>"
      ]
     },
     "metadata": {
      "needs_background": "light"
     },
     "output_type": "display_data"
    }
   ],
   "source": [
    "# Monte Carlo analysis of true vs surrogate loss correlations\n",
    "surrogate_loss = CompositeLoss(classWeights)\n",
    "results = MonteCarloLossAnalysis(pd.concat([Y_train, Y_test],axis=0), pd.concat([Y_hat_train, Y_hat_test],axis=0), amex_metric_np, surrogate_loss, R=1000)\n",
    "display(results.head())\n",
    "print('Correlations:')\n",
    "display(results.corr())\n",
    "results.plot(subplots=True)\n",
    "plt.show()"
   ]
  },
  {
   "cell_type": "code",
   "execution_count": 46,
   "metadata": {
    "ExecuteTime": {
     "end_time": "2022-08-16T02:36:53.405281Z",
     "start_time": "2022-08-16T02:26:57.563518Z"
    },
    "hidden": true,
    "scrolled": true
   },
   "outputs": [
    {
     "name": "stderr",
     "output_type": "stream",
     "text": [
      "100%|████████████████████████████████████████████████████████████████████████████████| 500/500 [00:06<00:00, 81.80it/s]\n",
      "100%|████████████████████████████████████████████████████████████████████████████████| 500/500 [00:06<00:00, 82.54it/s]\n",
      "100%|████████████████████████████████████████████████████████████████████████████████| 500/500 [00:05<00:00, 83.57it/s]\n",
      "100%|████████████████████████████████████████████████████████████████████████████████| 500/500 [00:05<00:00, 84.47it/s]\n",
      "100%|████████████████████████████████████████████████████████████████████████████████| 500/500 [00:05<00:00, 84.12it/s]\n",
      "100%|████████████████████████████████████████████████████████████████████████████████| 500/500 [00:05<00:00, 83.98it/s]\n",
      "100%|████████████████████████████████████████████████████████████████████████████████| 500/500 [00:05<00:00, 84.57it/s]\n",
      "100%|████████████████████████████████████████████████████████████████████████████████| 500/500 [00:05<00:00, 84.36it/s]\n",
      "100%|████████████████████████████████████████████████████████████████████████████████| 500/500 [00:05<00:00, 84.82it/s]\n",
      "100%|████████████████████████████████████████████████████████████████████████████████| 500/500 [00:05<00:00, 84.77it/s]\n",
      "100%|████████████████████████████████████████████████████████████████████████████████| 500/500 [00:05<00:00, 85.16it/s]\n",
      "100%|████████████████████████████████████████████████████████████████████████████████| 500/500 [00:05<00:00, 85.09it/s]\n",
      "100%|████████████████████████████████████████████████████████████████████████████████| 500/500 [00:05<00:00, 85.04it/s]\n",
      "100%|████████████████████████████████████████████████████████████████████████████████| 500/500 [00:05<00:00, 83.45it/s]\n",
      "100%|████████████████████████████████████████████████████████████████████████████████| 500/500 [00:06<00:00, 82.82it/s]\n",
      "100%|████████████████████████████████████████████████████████████████████████████████| 500/500 [00:05<00:00, 83.84it/s]\n",
      "100%|████████████████████████████████████████████████████████████████████████████████| 500/500 [00:06<00:00, 82.63it/s]\n",
      "100%|████████████████████████████████████████████████████████████████████████████████| 500/500 [00:06<00:00, 82.69it/s]\n",
      "100%|████████████████████████████████████████████████████████████████████████████████| 500/500 [00:06<00:00, 82.83it/s]\n",
      "100%|████████████████████████████████████████████████████████████████████████████████| 500/500 [00:05<00:00, 84.22it/s]\n",
      "100%|████████████████████████████████████████████████████████████████████████████████| 500/500 [00:05<00:00, 84.85it/s]\n",
      "100%|████████████████████████████████████████████████████████████████████████████████| 500/500 [00:05<00:00, 85.90it/s]\n",
      "100%|████████████████████████████████████████████████████████████████████████████████| 500/500 [00:05<00:00, 86.15it/s]\n",
      "100%|████████████████████████████████████████████████████████████████████████████████| 500/500 [00:05<00:00, 86.93it/s]\n",
      "100%|████████████████████████████████████████████████████████████████████████████████| 500/500 [00:05<00:00, 83.40it/s]\n",
      "100%|████████████████████████████████████████████████████████████████████████████████| 500/500 [00:05<00:00, 84.40it/s]\n",
      "100%|████████████████████████████████████████████████████████████████████████████████| 500/500 [00:05<00:00, 83.49it/s]\n",
      "100%|████████████████████████████████████████████████████████████████████████████████| 500/500 [00:06<00:00, 83.01it/s]\n",
      "100%|████████████████████████████████████████████████████████████████████████████████| 500/500 [00:06<00:00, 82.59it/s]\n",
      "100%|████████████████████████████████████████████████████████████████████████████████| 500/500 [00:06<00:00, 83.06it/s]\n",
      "100%|████████████████████████████████████████████████████████████████████████████████| 500/500 [00:05<00:00, 84.90it/s]\n",
      "100%|████████████████████████████████████████████████████████████████████████████████| 500/500 [00:05<00:00, 85.45it/s]\n",
      "100%|████████████████████████████████████████████████████████████████████████████████| 500/500 [00:05<00:00, 85.83it/s]\n",
      "100%|████████████████████████████████████████████████████████████████████████████████| 500/500 [00:05<00:00, 85.99it/s]\n",
      "100%|████████████████████████████████████████████████████████████████████████████████| 500/500 [00:05<00:00, 84.44it/s]\n",
      "100%|████████████████████████████████████████████████████████████████████████████████| 500/500 [00:05<00:00, 84.81it/s]\n",
      "100%|████████████████████████████████████████████████████████████████████████████████| 500/500 [00:05<00:00, 83.95it/s]\n",
      "100%|████████████████████████████████████████████████████████████████████████████████| 500/500 [00:05<00:00, 84.20it/s]\n",
      "100%|████████████████████████████████████████████████████████████████████████████████| 500/500 [00:06<00:00, 83.02it/s]\n",
      "100%|████████████████████████████████████████████████████████████████████████████████| 500/500 [00:06<00:00, 83.30it/s]\n",
      "100%|████████████████████████████████████████████████████████████████████████████████| 500/500 [00:06<00:00, 82.88it/s]\n",
      "100%|████████████████████████████████████████████████████████████████████████████████| 500/500 [00:05<00:00, 83.83it/s]\n",
      "100%|████████████████████████████████████████████████████████████████████████████████| 500/500 [00:06<00:00, 82.96it/s]\n",
      "100%|████████████████████████████████████████████████████████████████████████████████| 500/500 [00:05<00:00, 84.35it/s]\n",
      "100%|████████████████████████████████████████████████████████████████████████████████| 500/500 [00:05<00:00, 84.59it/s]\n",
      "100%|████████████████████████████████████████████████████████████████████████████████| 500/500 [00:05<00:00, 84.76it/s]\n",
      "100%|████████████████████████████████████████████████████████████████████████████████| 500/500 [00:05<00:00, 84.63it/s]\n",
      "100%|████████████████████████████████████████████████████████████████████████████████| 500/500 [00:05<00:00, 85.05it/s]\n",
      "100%|████████████████████████████████████████████████████████████████████████████████| 500/500 [00:05<00:00, 83.98it/s]\n",
      "100%|████████████████████████████████████████████████████████████████████████████████| 500/500 [00:06<00:00, 83.01it/s]\n",
      "100%|████████████████████████████████████████████████████████████████████████████████| 500/500 [00:05<00:00, 85.30it/s]\n",
      "100%|████████████████████████████████████████████████████████████████████████████████| 500/500 [00:06<00:00, 82.82it/s]\n",
      "100%|████████████████████████████████████████████████████████████████████████████████| 500/500 [00:05<00:00, 83.51it/s]\n",
      "100%|████████████████████████████████████████████████████████████████████████████████| 500/500 [00:05<00:00, 83.86it/s]\n",
      "100%|████████████████████████████████████████████████████████████████████████████████| 500/500 [00:06<00:00, 82.91it/s]\n",
      "100%|████████████████████████████████████████████████████████████████████████████████| 500/500 [00:05<00:00, 84.47it/s]\n",
      "100%|████████████████████████████████████████████████████████████████████████████████| 500/500 [00:05<00:00, 84.62it/s]\n",
      "100%|████████████████████████████████████████████████████████████████████████████████| 500/500 [00:05<00:00, 84.95it/s]\n",
      "100%|████████████████████████████████████████████████████████████████████████████████| 500/500 [00:05<00:00, 85.62it/s]\n",
      "100%|████████████████████████████████████████████████████████████████████████████████| 500/500 [00:05<00:00, 84.86it/s]\n",
      "100%|████████████████████████████████████████████████████████████████████████████████| 500/500 [00:06<00:00, 83.27it/s]\n",
      "100%|████████████████████████████████████████████████████████████████████████████████| 500/500 [00:05<00:00, 85.01it/s]\n",
      "100%|████████████████████████████████████████████████████████████████████████████████| 500/500 [00:06<00:00, 82.82it/s]\n",
      "100%|████████████████████████████████████████████████████████████████████████████████| 500/500 [00:06<00:00, 82.37it/s]\n",
      "100%|████████████████████████████████████████████████████████████████████████████████| 500/500 [00:05<00:00, 84.69it/s]\n",
      "100%|████████████████████████████████████████████████████████████████████████████████| 500/500 [00:06<00:00, 82.83it/s]\n",
      "100%|████████████████████████████████████████████████████████████████████████████████| 500/500 [00:06<00:00, 82.90it/s]\n",
      "100%|████████████████████████████████████████████████████████████████████████████████| 500/500 [00:05<00:00, 84.66it/s]\n",
      "100%|████████████████████████████████████████████████████████████████████████████████| 500/500 [00:05<00:00, 86.92it/s]\n",
      "100%|████████████████████████████████████████████████████████████████████████████████| 500/500 [00:05<00:00, 85.57it/s]\n",
      "100%|████████████████████████████████████████████████████████████████████████████████| 500/500 [00:05<00:00, 84.88it/s]\n",
      "100%|████████████████████████████████████████████████████████████████████████████████| 500/500 [00:05<00:00, 85.19it/s]\n",
      "100%|████████████████████████████████████████████████████████████████████████████████| 500/500 [00:06<00:00, 82.82it/s]\n",
      "100%|████████████████████████████████████████████████████████████████████████████████| 500/500 [00:05<00:00, 83.49it/s]\n",
      "100%|████████████████████████████████████████████████████████████████████████████████| 500/500 [00:05<00:00, 84.02it/s]\n",
      "100%|████████████████████████████████████████████████████████████████████████████████| 500/500 [00:05<00:00, 83.92it/s]\n",
      "100%|████████████████████████████████████████████████████████████████████████████████| 500/500 [00:05<00:00, 83.96it/s]\n",
      "100%|████████████████████████████████████████████████████████████████████████████████| 500/500 [00:05<00:00, 84.32it/s]\n",
      "100%|████████████████████████████████████████████████████████████████████████████████| 500/500 [00:05<00:00, 84.82it/s]\n",
      "100%|████████████████████████████████████████████████████████████████████████████████| 500/500 [00:05<00:00, 86.76it/s]\n",
      "100%|████████████████████████████████████████████████████████████████████████████████| 500/500 [00:05<00:00, 87.00it/s]\n",
      "100%|████████████████████████████████████████████████████████████████████████████████| 500/500 [00:05<00:00, 88.26it/s]\n",
      "100%|████████████████████████████████████████████████████████████████████████████████| 500/500 [00:05<00:00, 84.91it/s]\n",
      "100%|████████████████████████████████████████████████████████████████████████████████| 500/500 [00:05<00:00, 84.93it/s]\n",
      "100%|████████████████████████████████████████████████████████████████████████████████| 500/500 [00:05<00:00, 84.39it/s]\n",
      "100%|████████████████████████████████████████████████████████████████████████████████| 500/500 [00:05<00:00, 83.61it/s]\n",
      "100%|████████████████████████████████████████████████████████████████████████████████| 500/500 [00:05<00:00, 84.42it/s]\n",
      "100%|████████████████████████████████████████████████████████████████████████████████| 500/500 [00:05<00:00, 85.12it/s]\n",
      "100%|████████████████████████████████████████████████████████████████████████████████| 500/500 [00:05<00:00, 85.91it/s]\n",
      "100%|████████████████████████████████████████████████████████████████████████████████| 500/500 [00:05<00:00, 84.97it/s]\n",
      "100%|████████████████████████████████████████████████████████████████████████████████| 500/500 [00:05<00:00, 84.03it/s]\n",
      "100%|████████████████████████████████████████████████████████████████████████████████| 500/500 [00:05<00:00, 84.96it/s]\n",
      "100%|████████████████████████████████████████████████████████████████████████████████| 500/500 [00:05<00:00, 83.79it/s]\n",
      "100%|████████████████████████████████████████████████████████████████████████████████| 500/500 [00:05<00:00, 83.42it/s]\n",
      "100%|████████████████████████████████████████████████████████████████████████████████| 500/500 [00:06<00:00, 79.91it/s]\n",
      "100%|████████████████████████████████████████████████████████████████████████████████| 500/500 [00:05<00:00, 86.45it/s]\n",
      "100%|████████████████████████████████████████████████████████████████████████████████| 500/500 [00:05<00:00, 83.84it/s]\n",
      "100%|████████████████████████████████████████████████████████████████████████████████| 500/500 [00:05<00:00, 84.90it/s]\n",
      "100%|████████████████████████████████████████████████████████████████████████████████| 500/500 [00:05<00:00, 86.72it/s]\n",
      "100%|████████████████████████████████████████████████████████████████████████████████| 500/500 [00:05<00:00, 86.49it/s]\n"
     ]
    }
   ],
   "source": [
    "# Monte Carlo calibration of loss parameters\n",
    "results = []\n",
    "Y = pd.concat([Y_train, Y_test],axis=0)\n",
    "Y_hat = pd.concat([Y_hat_train, Y_hat_test], axis=0)\n",
    "for k in range(100):\n",
    "    #rho = k/100\n",
    "    gamma = k/100\n",
    "    surrogate_loss = CompositeLoss(classWeights, rho=0.5, gamma=gamma)\n",
    "    res = MonteCarloLossAnalysis(Y, Y_hat, amex_metric_np, surrogate_loss, R=500)\n",
    "    means = list(res.mean(axis=0).values)\n",
    "    corr = res.corr().iloc[0,1]\n",
    "    val = means + [corr]\n",
    "    results.append( val )\n",
    "results = pd.DataFrame(results)\n",
    "results.columns = ['ExpOfficial', 'ExpSurrogate', 'Corr']\n",
    "results.index = [k for k in range(100)]\n",
    "\n",
    "del Y, Y_hat\n",
    "_ = gc.collect()"
   ]
  },
  {
   "cell_type": "markdown",
   "metadata": {
    "heading_collapsed": true
   },
   "source": [
    "### Save"
   ]
  },
  {
   "cell_type": "code",
   "execution_count": null,
   "metadata": {
    "hidden": true
   },
   "outputs": [],
   "source": [
    "if SAVE_AND_SUBMIT:\n",
    "    SUBMISSIONDIR = 'Submission/'\n",
    "    \n",
    "    # Save DNN model\n",
    "    model.save(SUBMISSIONDIR+'Model')\n",
    "    \n",
    "    # Data structure metadata\n",
    "    dataSpecs = {\n",
    "        'maxPeriods' : maxPeriods,\n",
    "        'X_cols' : X_cols,\n",
    "        'Z_cols' : Z_cols,\n",
    "        'numFeatures' : numFeatures,\n",
    "        'numIndivFeatures' : numIndivFeatures,\n",
    "        'classWeights' : classWeights\n",
    "    }\n",
    "    \n",
    "    # Save preprocessing models\n",
    "    preprocessPipe = {\n",
    "        'X_scaler' : X_scaler,\n",
    "        'Z_scaler' : Z_scaler,\n",
    "        'VR' : VR,\n",
    "        'NOP' : NOP,\n",
    "        'AMP' : AMP,\n",
    "        'PE' : PE,\n",
    "        'dataSpecs' : dataSpecs\n",
    "    }\n",
    "    with open(SUBMISSIONDIR+'preprocessPipe','wb') as file:\n",
    "        pickle.dump(preprocessPipe, file)"
   ]
  }
 ],
 "metadata": {
  "kernelspec": {
   "display_name": "Python [conda env:Hambot] *",
   "language": "python",
   "name": "conda-env-Hambot-py"
  },
  "language_info": {
   "codemirror_mode": {
    "name": "ipython",
    "version": 3
   },
   "file_extension": ".py",
   "mimetype": "text/x-python",
   "name": "python",
   "nbconvert_exporter": "python",
   "pygments_lexer": "ipython3",
   "version": "3.6.10"
  }
 },
 "nbformat": 4,
 "nbformat_minor": 4
}
